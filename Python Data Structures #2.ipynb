{
 "cells": [
  {
   "cell_type": "markdown",
   "id": "b7930427",
   "metadata": {},
   "source": [
    "# 4 Datastructures in python\n",
    "\n",
    "1. list \n",
    "\n",
    "2. sets\n",
    "\n",
    "3. tuples\n",
    "\n",
    "4. dict\n"
   ]
  },
  {
   "cell_type": "markdown",
   "id": "f014968e",
   "metadata": {},
   "source": [
    "## 1. List"
   ]
  },
  {
   "cell_type": "markdown",
   "id": "c49c9701",
   "metadata": {},
   "source": [
    "**a). 1D**\n",
    "\n",
    "**b). Heterogenus**\n",
    "\n",
    "**c). Mutable\\Changeable**\n",
    "\n",
    "**d). Allows duplicate elements**\n",
    "\n",
    "**e). Indexable and Slicable**"
   ]
  },
  {
   "cell_type": "code",
   "execution_count": 1,
   "id": "460d3813",
   "metadata": {
    "ExecuteTime": {
     "end_time": "2021-12-21T22:29:29.342986Z",
     "start_time": "2021-12-21T22:29:29.321987Z"
    }
   },
   "outputs": [],
   "source": [
    "empty_cart_1 = []"
   ]
  },
  {
   "cell_type": "code",
   "execution_count": 2,
   "id": "d33d3773",
   "metadata": {
    "ExecuteTime": {
     "end_time": "2021-12-21T22:29:29.486977Z",
     "start_time": "2021-12-21T22:29:29.349985Z"
    }
   },
   "outputs": [
    {
     "data": {
      "text/plain": [
       "list"
      ]
     },
     "execution_count": 2,
     "metadata": {},
     "output_type": "execute_result"
    }
   ],
   "source": [
    "type(empty_cart_1)"
   ]
  },
  {
   "cell_type": "code",
   "execution_count": 3,
   "id": "48ce2405",
   "metadata": {
    "ExecuteTime": {
     "end_time": "2021-12-21T22:29:29.607185Z",
     "start_time": "2021-12-21T22:29:29.494979Z"
    }
   },
   "outputs": [
    {
     "data": {
      "text/plain": [
       "['Manoj', 'Bhavuk', 'Anil', 'Riya', 'Riyuk', 'Himanshu', 45, 7.8]"
      ]
     },
     "execution_count": 3,
     "metadata": {},
     "output_type": "execute_result"
    }
   ],
   "source": [
    "l_names = ['Manoj','Bhavuk','Anil','Riya','Riyuk','Himanshu',45,7.8]\n",
    "l_names"
   ]
  },
  {
   "cell_type": "code",
   "execution_count": 4,
   "id": "85a90684",
   "metadata": {
    "ExecuteTime": {
     "end_time": "2021-12-21T22:29:29.718176Z",
     "start_time": "2021-12-21T22:29:29.614180Z"
    }
   },
   "outputs": [
    {
     "data": {
      "text/plain": [
       "'Anil'"
      ]
     },
     "execution_count": 4,
     "metadata": {},
     "output_type": "execute_result"
    }
   ],
   "source": [
    "l_names[2]"
   ]
  },
  {
   "cell_type": "code",
   "execution_count": 5,
   "id": "26cdffba",
   "metadata": {
    "ExecuteTime": {
     "end_time": "2021-12-21T22:29:29.815168Z",
     "start_time": "2021-12-21T22:29:29.728177Z"
    }
   },
   "outputs": [
    {
     "data": {
      "text/plain": [
       "['Riyuk', 'Himanshu']"
      ]
     },
     "execution_count": 5,
     "metadata": {},
     "output_type": "execute_result"
    }
   ],
   "source": [
    "l_names[4:6]"
   ]
  },
  {
   "cell_type": "code",
   "execution_count": 33,
   "id": "4a8b272e",
   "metadata": {
    "ExecuteTime": {
     "end_time": "2021-12-21T23:04:00.365341Z",
     "start_time": "2021-12-21T23:04:00.345716Z"
    }
   },
   "outputs": [
    {
     "data": {
      "text/plain": [
       "['Manoj',\n",
       " 'Surbhi',\n",
       " 'Anil',\n",
       " 'Riya',\n",
       " 'Riyuk',\n",
       " 'Himanshu',\n",
       " 45,\n",
       " 7.8,\n",
       " 'Mani',\n",
       " 'Mani']"
      ]
     },
     "execution_count": 33,
     "metadata": {},
     "output_type": "execute_result"
    }
   ],
   "source": [
    "l_names[1] = 'Surbhi'\n",
    "l_names"
   ]
  },
  {
   "cell_type": "code",
   "execution_count": 29,
   "id": "3930a885",
   "metadata": {
    "ExecuteTime": {
     "end_time": "2021-12-21T22:36:26.876233Z",
     "start_time": "2021-12-21T22:36:26.865235Z"
    }
   },
   "outputs": [
    {
     "data": {
      "text/plain": [
       "['Manoj',\n",
       " 'Surbhi',\n",
       " 'Anil',\n",
       " 'Riya',\n",
       " 'Riyuk',\n",
       " 'Himanshu',\n",
       " 45,\n",
       " 7.8,\n",
       " 'Mani',\n",
       " 'Mani']"
      ]
     },
     "execution_count": 29,
     "metadata": {},
     "output_type": "execute_result"
    }
   ],
   "source": [
    "l_names.append('Mani')\n",
    "l_names"
   ]
  },
  {
   "cell_type": "markdown",
   "id": "82ada7f6",
   "metadata": {},
   "source": [
    "# 2. Sets"
   ]
  },
  {
   "cell_type": "markdown",
   "id": "c87eb386",
   "metadata": {},
   "source": [
    "* 1D\n",
    "* Heterogenous\n",
    "* Mutable\n",
    "* No duplicates\n",
    "* not indexable and slicable"
   ]
  },
  {
   "cell_type": "code",
   "execution_count": 8,
   "id": "a4ac943e",
   "metadata": {
    "ExecuteTime": {
     "end_time": "2021-12-21T22:29:30.169794Z",
     "start_time": "2021-12-21T22:29:30.049153Z"
    }
   },
   "outputs": [
    {
     "data": {
      "text/plain": [
       "set"
      ]
     },
     "execution_count": 8,
     "metadata": {},
     "output_type": "execute_result"
    }
   ],
   "source": [
    "empty_cart_2 = set()\n",
    "type(empty_cart_2)"
   ]
  },
  {
   "cell_type": "code",
   "execution_count": 31,
   "id": "debe1eba",
   "metadata": {
    "ExecuteTime": {
     "end_time": "2021-12-21T22:59:14.770240Z",
     "start_time": "2021-12-21T22:59:14.753558Z"
    }
   },
   "outputs": [
    {
     "data": {
      "text/plain": [
       "{'Anil', 'Bhavuk', 'Himanshu', 'Manoj', 'Riya', 'Riyuk'}"
      ]
     },
     "execution_count": 31,
     "metadata": {},
     "output_type": "execute_result"
    }
   ],
   "source": [
    "l_names_2 = {'Manoj','Bhavuk','Anil','Riya','Riyuk','Himanshu',}\n",
    "l_names_2"
   ]
  },
  {
   "cell_type": "code",
   "execution_count": 32,
   "id": "c8b30ace",
   "metadata": {
    "ExecuteTime": {
     "end_time": "2021-12-21T22:59:15.688360Z",
     "start_time": "2021-12-21T22:59:15.665360Z"
    }
   },
   "outputs": [
    {
     "data": {
      "text/plain": [
       "{'Anil', 'Bhavuk', 'Himanshu', 'Manoj', 'Nikhil', 'Riya', 'Riyuk'}"
      ]
     },
     "execution_count": 32,
     "metadata": {},
     "output_type": "execute_result"
    }
   ],
   "source": [
    "l_names_2.add('Nikhil')\n",
    "l_names_2"
   ]
  },
  {
   "cell_type": "code",
   "execution_count": 11,
   "id": "44dfc40e",
   "metadata": {
    "ExecuteTime": {
     "end_time": "2021-12-21T22:29:30.549063Z",
     "start_time": "2021-12-21T22:29:30.425078Z"
    }
   },
   "outputs": [
    {
     "data": {
      "text/plain": [
       "set()"
      ]
     },
     "execution_count": 11,
     "metadata": {},
     "output_type": "execute_result"
    }
   ],
   "source": [
    "l_names_2.clear()\n",
    "l_names_2"
   ]
  },
  {
   "cell_type": "markdown",
   "id": "19b3bc99",
   "metadata": {},
   "source": [
    "## Daily Task - 3\n",
    "**explore all data structure related methods. Come up with one example.**"
   ]
  },
  {
   "cell_type": "markdown",
   "id": "6325091e",
   "metadata": {},
   "source": [
    "# 3 - Tuple"
   ]
  },
  {
   "cell_type": "markdown",
   "id": "a7df78b3",
   "metadata": {},
   "source": [
    "* 1D\n",
    "* Heterogenous\n",
    "* Allows duplicate elements\n",
    "* Not mutable / Not changeable\n",
    "* indexable and slicable"
   ]
  },
  {
   "cell_type": "code",
   "execution_count": 12,
   "id": "77fe0a4f",
   "metadata": {
    "ExecuteTime": {
     "end_time": "2021-12-21T22:29:30.652283Z",
     "start_time": "2021-12-21T22:29:30.555067Z"
    }
   },
   "outputs": [],
   "source": [
    "empty_cart_3 = ()"
   ]
  },
  {
   "cell_type": "code",
   "execution_count": 13,
   "id": "90f40fe4",
   "metadata": {
    "ExecuteTime": {
     "end_time": "2021-12-21T22:29:30.761884Z",
     "start_time": "2021-12-21T22:29:30.656292Z"
    }
   },
   "outputs": [
    {
     "data": {
      "text/plain": [
       "tuple"
      ]
     },
     "execution_count": 13,
     "metadata": {},
     "output_type": "execute_result"
    }
   ],
   "source": [
    "type(empty_cart_3)"
   ]
  },
  {
   "cell_type": "code",
   "execution_count": 14,
   "id": "ff70b45d",
   "metadata": {
    "ExecuteTime": {
     "end_time": "2021-12-21T22:29:30.873218Z",
     "start_time": "2021-12-21T22:29:30.766884Z"
    }
   },
   "outputs": [
    {
     "data": {
      "text/plain": [
       "('Manoj', 'Bhavuk', 'Anil', 'Riya', 'Riyuk', 'Himanshu', 'Manoj', 'Bhavuk')"
      ]
     },
     "execution_count": 14,
     "metadata": {},
     "output_type": "execute_result"
    }
   ],
   "source": [
    "l_names_3 = ('Manoj','Bhavuk','Anil','Riya','Riyuk','Himanshu','Manoj','Bhavuk')\n",
    "l_names_3"
   ]
  },
  {
   "cell_type": "code",
   "execution_count": 15,
   "id": "f06b567c",
   "metadata": {
    "ExecuteTime": {
     "end_time": "2021-12-21T22:29:31.001220Z",
     "start_time": "2021-12-21T22:29:30.878218Z"
    }
   },
   "outputs": [
    {
     "data": {
      "text/plain": [
       "tuple"
      ]
     },
     "execution_count": 15,
     "metadata": {},
     "output_type": "execute_result"
    }
   ],
   "source": [
    "type(l_names_3)"
   ]
  },
  {
   "cell_type": "code",
   "execution_count": 16,
   "id": "8d6b4261",
   "metadata": {
    "ExecuteTime": {
     "end_time": "2021-12-21T22:29:31.112413Z",
     "start_time": "2021-12-21T22:29:31.006225Z"
    }
   },
   "outputs": [
    {
     "data": {
      "text/plain": [
       "('Manoj', 'Bhavuk', 'Anil', 'Riya', 'Riyuk', 'Himanshu', 'Manoj', 'Bhavuk')"
      ]
     },
     "execution_count": 16,
     "metadata": {},
     "output_type": "execute_result"
    }
   ],
   "source": [
    "l_names_4 = 'Manoj','Bhavuk','Anil','Riya','Riyuk','Himanshu','Manoj','Bhavuk'\n",
    "l_names_4\n"
   ]
  },
  {
   "cell_type": "code",
   "execution_count": 17,
   "id": "67fe9e0e",
   "metadata": {
    "ExecuteTime": {
     "end_time": "2021-12-21T22:29:31.222976Z",
     "start_time": "2021-12-21T22:29:31.117418Z"
    }
   },
   "outputs": [
    {
     "data": {
      "text/plain": [
       "tuple"
      ]
     },
     "execution_count": 17,
     "metadata": {},
     "output_type": "execute_result"
    }
   ],
   "source": [
    "type(l_names_4)"
   ]
  },
  {
   "cell_type": "code",
   "execution_count": 18,
   "id": "21678454",
   "metadata": {
    "ExecuteTime": {
     "end_time": "2021-12-21T22:29:31.333037Z",
     "start_time": "2021-12-21T22:29:31.227978Z"
    }
   },
   "outputs": [
    {
     "data": {
      "text/plain": [
       "'Manoj'"
      ]
     },
     "execution_count": 18,
     "metadata": {},
     "output_type": "execute_result"
    }
   ],
   "source": [
    "l_names_4[0]"
   ]
  },
  {
   "cell_type": "code",
   "execution_count": 19,
   "id": "6a2ab2f4",
   "metadata": {
    "ExecuteTime": {
     "end_time": "2021-12-21T22:29:31.459086Z",
     "start_time": "2021-12-21T22:29:31.339033Z"
    }
   },
   "outputs": [
    {
     "data": {
      "text/plain": [
       "('Manoj', 'Bhavuk', 'Anil', 'Riya')"
      ]
     },
     "execution_count": 19,
     "metadata": {},
     "output_type": "execute_result"
    }
   ],
   "source": [
    "l_names_4[:4]"
   ]
  },
  {
   "cell_type": "markdown",
   "id": "6f3b6c1e",
   "metadata": {},
   "source": [
    "# 4. Dictionary "
   ]
  },
  {
   "cell_type": "markdown",
   "id": "80967eb7",
   "metadata": {},
   "source": [
    "we call it as **Key:Value** pair."
   ]
  },
  {
   "cell_type": "markdown",
   "id": "b5e39355",
   "metadata": {},
   "source": [
    "* 2D\n",
    "* Heterogenous\n",
    "* not Indexable and not slicable"
   ]
  },
  {
   "cell_type": "code",
   "execution_count": 20,
   "id": "75c08b1a",
   "metadata": {
    "ExecuteTime": {
     "end_time": "2021-12-21T22:29:31.582950Z",
     "start_time": "2021-12-21T22:29:31.464092Z"
    }
   },
   "outputs": [],
   "source": [
    "empty_cart_4 = {}"
   ]
  },
  {
   "cell_type": "code",
   "execution_count": 21,
   "id": "f04eb7c8",
   "metadata": {
    "ExecuteTime": {
     "end_time": "2021-12-21T22:29:31.693753Z",
     "start_time": "2021-12-21T22:29:31.587061Z"
    }
   },
   "outputs": [
    {
     "data": {
      "text/plain": [
       "dict"
      ]
     },
     "execution_count": 21,
     "metadata": {},
     "output_type": "execute_result"
    }
   ],
   "source": [
    "type(empty_cart_4)"
   ]
  },
  {
   "cell_type": "code",
   "execution_count": 22,
   "id": "d31e1450",
   "metadata": {
    "ExecuteTime": {
     "end_time": "2021-12-21T22:29:31.787042Z",
     "start_time": "2021-12-21T22:29:31.697753Z"
    }
   },
   "outputs": [
    {
     "data": {
      "text/plain": [
       "{'milk': 2, 'oats': 1, 'apple': '1kg'}"
      ]
     },
     "execution_count": 22,
     "metadata": {},
     "output_type": "execute_result"
    }
   ],
   "source": [
    "items_to_buy = {'milk':2,\n",
    "                'oats':1,\n",
    "                'apple':'1kg'}\n",
    "items_to_buy"
   ]
  },
  {
   "cell_type": "code",
   "execution_count": 23,
   "id": "44763794",
   "metadata": {
    "ExecuteTime": {
     "end_time": "2021-12-21T22:29:31.900834Z",
     "start_time": "2021-12-21T22:29:31.810042Z"
    }
   },
   "outputs": [
    {
     "data": {
      "text/plain": [
       "dict"
      ]
     },
     "execution_count": 23,
     "metadata": {},
     "output_type": "execute_result"
    }
   ],
   "source": [
    "type(items_to_buy)"
   ]
  },
  {
   "cell_type": "code",
   "execution_count": 36,
   "id": "cd7f13d0",
   "metadata": {
    "ExecuteTime": {
     "end_time": "2021-12-21T23:21:19.180328Z",
     "start_time": "2021-12-21T23:21:19.164703Z"
    }
   },
   "outputs": [
    {
     "data": {
      "text/plain": [
       "dict_keys(['milk', 'oats', 'apple'])"
      ]
     },
     "execution_count": 36,
     "metadata": {},
     "output_type": "execute_result"
    }
   ],
   "source": [
    "items_to_buy.keys()"
   ]
  },
  {
   "cell_type": "code",
   "execution_count": 25,
   "id": "7d9179c0",
   "metadata": {
    "ExecuteTime": {
     "end_time": "2021-12-21T22:29:32.137250Z",
     "start_time": "2021-12-21T22:29:32.032652Z"
    }
   },
   "outputs": [
    {
     "data": {
      "text/plain": [
       "dict_values([2, 1, '1kg'])"
      ]
     },
     "execution_count": 25,
     "metadata": {},
     "output_type": "execute_result"
    }
   ],
   "source": [
    "items_to_buy.values()"
   ]
  },
  {
   "cell_type": "code",
   "execution_count": 26,
   "id": "e0c88afe",
   "metadata": {
    "ExecuteTime": {
     "end_time": "2021-12-21T22:29:32.249277Z",
     "start_time": "2021-12-21T22:29:32.141254Z"
    }
   },
   "outputs": [
    {
     "data": {
      "text/plain": [
       "{'fname': ['Manoj', 'Anil', 'Bhavuk'],\n",
       " 'lname': ['Suthar', 'Nayak', 'Sharma'],\n",
       " 'age': [20, 22, 24]}"
      ]
     },
     "execution_count": 26,
     "metadata": {},
     "output_type": "execute_result"
    }
   ],
   "source": [
    "learner_details = {'fname':['Manoj','Anil','Bhavuk'],\n",
    "                   'lname':['Suthar','Nayak','Sharma'],\n",
    "                   'age'  :[20,22,24]\n",
    "                  }\n",
    "learner_details"
   ]
  },
  {
   "cell_type": "code",
   "execution_count": 27,
   "id": "f2fdb5f0",
   "metadata": {
    "ExecuteTime": {
     "end_time": "2021-12-21T22:29:39.127746Z",
     "start_time": "2021-12-21T22:29:32.254275Z"
    }
   },
   "outputs": [],
   "source": [
    "import pandas as pd "
   ]
  },
  {
   "cell_type": "code",
   "execution_count": 28,
   "id": "4925a4a0",
   "metadata": {
    "ExecuteTime": {
     "end_time": "2021-12-21T22:29:39.534741Z",
     "start_time": "2021-12-21T22:29:39.127746Z"
    }
   },
   "outputs": [
    {
     "data": {
      "text/html": [
       "<div>\n",
       "<style scoped>\n",
       "    .dataframe tbody tr th:only-of-type {\n",
       "        vertical-align: middle;\n",
       "    }\n",
       "\n",
       "    .dataframe tbody tr th {\n",
       "        vertical-align: top;\n",
       "    }\n",
       "\n",
       "    .dataframe thead th {\n",
       "        text-align: right;\n",
       "    }\n",
       "</style>\n",
       "<table border=\"1\" class=\"dataframe\">\n",
       "  <thead>\n",
       "    <tr style=\"text-align: right;\">\n",
       "      <th></th>\n",
       "      <th>fname</th>\n",
       "      <th>lname</th>\n",
       "      <th>age</th>\n",
       "    </tr>\n",
       "  </thead>\n",
       "  <tbody>\n",
       "    <tr>\n",
       "      <th>0</th>\n",
       "      <td>Manoj</td>\n",
       "      <td>Suthar</td>\n",
       "      <td>20</td>\n",
       "    </tr>\n",
       "    <tr>\n",
       "      <th>1</th>\n",
       "      <td>Anil</td>\n",
       "      <td>Nayak</td>\n",
       "      <td>22</td>\n",
       "    </tr>\n",
       "    <tr>\n",
       "      <th>2</th>\n",
       "      <td>Bhavuk</td>\n",
       "      <td>Sharma</td>\n",
       "      <td>24</td>\n",
       "    </tr>\n",
       "  </tbody>\n",
       "</table>\n",
       "</div>"
      ],
      "text/plain": [
       "    fname   lname  age\n",
       "0   Manoj  Suthar   20\n",
       "1    Anil   Nayak   22\n",
       "2  Bhavuk  Sharma   24"
      ]
     },
     "execution_count": 28,
     "metadata": {},
     "output_type": "execute_result"
    }
   ],
   "source": [
    "pd.DataFrame(learner_details)"
   ]
  },
  {
   "cell_type": "markdown",
   "id": "53513f3b",
   "metadata": {},
   "source": [
    "# =================== The End ===================="
   ]
  }
 ],
 "metadata": {
  "kernelspec": {
   "display_name": "Python 3",
   "language": "python",
   "name": "python3"
  },
  "language_info": {
   "codemirror_mode": {
    "name": "ipython",
    "version": 3
   },
   "file_extension": ".py",
   "mimetype": "text/x-python",
   "name": "python",
   "nbconvert_exporter": "python",
   "pygments_lexer": "ipython3",
   "version": "3.8.8"
  },
  "varInspector": {
   "cols": {
    "lenName": 16,
    "lenType": 16,
    "lenVar": 40
   },
   "kernels_config": {
    "python": {
     "delete_cmd_postfix": "",
     "delete_cmd_prefix": "del ",
     "library": "var_list.py",
     "varRefreshCmd": "print(var_dic_list())"
    },
    "r": {
     "delete_cmd_postfix": ") ",
     "delete_cmd_prefix": "rm(",
     "library": "var_list.r",
     "varRefreshCmd": "cat(var_dic_list()) "
    }
   },
   "types_to_exclude": [
    "module",
    "function",
    "builtin_function_or_method",
    "instance",
    "_Feature"
   ],
   "window_display": false
  }
 },
 "nbformat": 4,
 "nbformat_minor": 5
}
