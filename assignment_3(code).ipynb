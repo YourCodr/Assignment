{
 "cells": [
  {
   "cell_type": "markdown",
   "id": "6ebb0d70",
   "metadata": {},
   "source": [
    "# import libraries\n"
   ]
  },
  {
   "cell_type": "code",
   "execution_count": 1,
   "id": "2f77a1cc",
   "metadata": {
    "ExecuteTime": {
     "end_time": "2022-01-16T13:30:33.618180Z",
     "start_time": "2022-01-16T13:30:30.973177Z"
    }
   },
   "outputs": [],
   "source": [
    "import pandas as pd \n",
    "import scipy\n",
    "import numpy as np \n",
    "from scipy import stats"
   ]
  },
  {
   "cell_type": "markdown",
   "id": "95450cac",
   "metadata": {},
   "source": [
    "## Super market example"
   ]
  },
  {
   "cell_type": "code",
   "execution_count": 2,
   "id": "2cb89500",
   "metadata": {
    "ExecuteTime": {
     "end_time": "2022-01-16T13:30:33.682190Z",
     "start_time": "2022-01-16T13:30:33.624186Z"
    }
   },
   "outputs": [
    {
     "data": {
      "text/plain": [
       "0.9857070911974259"
      ]
     },
     "execution_count": 2,
     "metadata": {},
     "output_type": "execute_result"
    }
   ],
   "source": [
    "stats.t.cdf(2.23,df= 79)"
   ]
  },
  {
   "cell_type": "markdown",
   "id": "7ffaf993",
   "metadata": {},
   "source": [
    "## Call center example"
   ]
  },
  {
   "cell_type": "code",
   "execution_count": 3,
   "id": "2543b4ea",
   "metadata": {
    "ExecuteTime": {
     "end_time": "2022-01-16T13:30:33.839397Z",
     "start_time": "2022-01-16T13:30:33.691183Z"
    }
   },
   "outputs": [
    {
     "data": {
      "text/plain": [
       "-1.4142135623730943"
      ]
     },
     "execution_count": 3,
     "metadata": {},
     "output_type": "execute_result"
    }
   ],
   "source": [
    "(4-4.6)/(3/np.sqrt(50))"
   ]
  },
  {
   "cell_type": "code",
   "execution_count": 4,
   "id": "06299b6f",
   "metadata": {
    "ExecuteTime": {
     "end_time": "2022-01-16T13:30:33.951453Z",
     "start_time": "2022-01-16T13:30:33.849395Z"
    }
   },
   "outputs": [
    {
     "data": {
      "text/plain": [
       "0.1648559451804547"
      ]
     },
     "execution_count": 4,
     "metadata": {},
     "output_type": "execute_result"
    }
   ],
   "source": [
    "2*stats.t.cdf(-1.41,df=49)"
   ]
  },
  {
   "cell_type": "markdown",
   "id": "029bb789",
   "metadata": {},
   "source": [
    "##  One tail test"
   ]
  },
  {
   "cell_type": "code",
   "execution_count": 16,
   "id": "4d533b97",
   "metadata": {
    "ExecuteTime": {
     "end_time": "2022-01-16T13:31:56.996676Z",
     "start_time": "2022-01-16T13:31:56.982676Z"
    }
   },
   "outputs": [
    {
     "data": {
      "text/plain": [
       "0.029265164842448826"
      ]
     },
     "execution_count": 16,
     "metadata": {},
     "output_type": "execute_result"
    }
   ],
   "source": [
    "p/2"
   ]
  },
  {
   "cell_type": "code",
   "execution_count": 14,
   "id": "685653fa",
   "metadata": {
    "ExecuteTime": {
     "end_time": "2022-01-16T13:31:53.143171Z",
     "start_time": "2022-01-16T13:31:53.127304Z"
    }
   },
   "outputs": [],
   "source": [
    "data=pd.Series([0.593, 0.142, 0.329, 0.691, 0.231, 0.793, 0.519, 0.392, 0.418])"
   ]
  },
  {
   "cell_type": "code",
   "execution_count": 15,
   "id": "c838850a",
   "metadata": {
    "ExecuteTime": {
     "end_time": "2022-01-16T13:31:54.700460Z",
     "start_time": "2022-01-16T13:31:54.687462Z"
    }
   },
   "outputs": [],
   "source": [
    "#This gives two tail test p value so divide by 2 to get final p-value\n",
    "p=scipy.stats.ttest_1samp(data,0.3)[1]\n",
    "p_value= p/2"
   ]
  },
  {
   "cell_type": "markdown",
   "id": "860d0766",
   "metadata": {},
   "source": [
    "##  Two tail test"
   ]
  },
  {
   "cell_type": "code",
   "execution_count": 6,
   "id": "35995bc4",
   "metadata": {
    "ExecuteTime": {
     "end_time": "2022-01-16T13:31:18.273233Z",
     "start_time": "2022-01-16T13:31:18.256236Z"
    }
   },
   "outputs": [],
   "source": [
    "control=pd.Series([91, 87, 99, 77, 88, 91])\n",
    "Treat =pd.Series([101, 110, 103, 93, 99, 104])  "
   ]
  },
  {
   "cell_type": "code",
   "execution_count": 7,
   "id": "31ca1fdd",
   "metadata": {
    "ExecuteTime": {
     "end_time": "2022-01-16T13:31:18.795171Z",
     "start_time": "2022-01-16T13:31:18.782169Z"
    }
   },
   "outputs": [
    {
     "data": {
      "text/plain": [
       "Ttest_indResult(statistic=-3.445612673536487, pvalue=0.006272124350809803)"
      ]
     },
     "execution_count": 7,
     "metadata": {},
     "output_type": "execute_result"
    }
   ],
   "source": [
    "stats.ttest_ind(control,Treat)"
   ]
  },
  {
   "cell_type": "markdown",
   "id": "3098fb62",
   "metadata": {},
   "source": [
    "## Two proportion test"
   ]
  },
  {
   "cell_type": "code",
   "execution_count": 8,
   "id": "c653ac11",
   "metadata": {
    "ExecuteTime": {
     "end_time": "2022-01-16T13:31:19.761395Z",
     "start_time": "2022-01-16T13:31:19.744394Z"
    }
   },
   "outputs": [],
   "source": [
    "#Data:\n",
    "\n",
    "n1 = 247\n",
    "p1 = .37\n",
    "\n",
    "n2 = 308\n",
    "p2 = .39"
   ]
  },
  {
   "cell_type": "code",
   "execution_count": 9,
   "id": "9a3c7f9f",
   "metadata": {
    "ExecuteTime": {
     "end_time": "2022-01-16T13:31:20.216928Z",
     "start_time": "2022-01-16T13:31:20.197934Z"
    }
   },
   "outputs": [],
   "source": [
    "population1 = np.random.binomial(1, p1, n1)\n",
    "population2 = np.random.binomial(1, p2, n2)"
   ]
  },
  {
   "cell_type": "code",
   "execution_count": 10,
   "id": "5d2255ad",
   "metadata": {
    "ExecuteTime": {
     "end_time": "2022-01-16T13:31:20.642202Z",
     "start_time": "2022-01-16T13:31:20.622206Z"
    }
   },
   "outputs": [
    {
     "data": {
      "text/plain": [
       "0.3360323886639676"
      ]
     },
     "execution_count": 10,
     "metadata": {},
     "output_type": "execute_result"
    }
   ],
   "source": [
    "population1.mean()"
   ]
  },
  {
   "cell_type": "code",
   "execution_count": 11,
   "id": "4759a3ec",
   "metadata": {
    "ExecuteTime": {
     "end_time": "2022-01-16T13:31:21.062935Z",
     "start_time": "2022-01-16T13:31:21.044935Z"
    }
   },
   "outputs": [
    {
     "data": {
      "text/plain": [
       "array([0, 0, 1, 0, 0, 0, 1, 0, 0, 0, 1, 0, 0, 0, 0, 0, 0, 1, 0, 1, 0, 0,\n",
       "       1, 0, 1, 0, 1, 1, 1, 0, 0, 0, 0, 0, 0, 0, 0, 1, 1, 0, 1, 0, 0, 1,\n",
       "       0, 0, 0, 0, 1, 0, 0, 0, 1, 0, 0, 0, 0, 1, 0, 0, 0, 0, 0, 1, 0, 1,\n",
       "       0, 0, 0, 0, 0, 0, 1, 0, 1, 0, 0, 0, 0, 1, 1, 1, 0, 1, 0, 0, 0, 1,\n",
       "       1, 1, 0, 0, 1, 0, 1, 0, 0, 0, 0, 0, 0, 1, 1, 0, 0, 0, 0, 0, 1, 0,\n",
       "       0, 1, 1, 0, 0, 1, 0, 0, 0, 1, 1, 0, 1, 0, 1, 0, 0, 1, 0, 0, 1, 1,\n",
       "       0, 1, 0, 1, 0, 1, 0, 1, 0, 0, 0, 0, 0, 0, 1, 0, 0, 1, 0, 1, 1, 0,\n",
       "       1, 0, 0, 0, 0, 1, 0, 0, 0, 0, 1, 1, 0, 1, 0, 0, 0, 1, 0, 0, 0, 0,\n",
       "       1, 0, 1, 1, 0, 0, 0, 0, 1, 1, 1, 1, 1, 1, 0, 1, 1, 1, 0, 0, 0, 0,\n",
       "       1, 0, 1, 1, 0, 1, 1, 0, 1, 1, 1, 0, 0, 0, 0, 1, 0, 0, 0, 1, 1, 0,\n",
       "       1, 0, 1, 1, 1, 0, 1, 0, 1, 1, 0, 0, 1, 1, 1, 1, 1, 0, 0, 0, 0, 1,\n",
       "       0, 1, 0, 0, 0, 1, 1, 1, 1, 0, 0, 1, 1, 1, 0, 0, 0, 1, 1, 0, 0, 1,\n",
       "       0, 0, 0, 0, 1, 1, 0, 0, 1, 1, 0, 0, 1, 0, 1, 0, 0, 1, 1, 1, 1, 1,\n",
       "       0, 0, 0, 1, 0, 0, 0, 0, 0, 0, 0, 1, 1, 0, 0, 0, 0, 1, 1, 0, 0, 0])"
      ]
     },
     "execution_count": 11,
     "metadata": {},
     "output_type": "execute_result"
    }
   ],
   "source": [
    "population2"
   ]
  },
  {
   "cell_type": "code",
   "execution_count": 12,
   "id": "7146f4a4",
   "metadata": {
    "ExecuteTime": {
     "end_time": "2022-01-16T13:31:22.797376Z",
     "start_time": "2022-01-16T13:31:21.500930Z"
    }
   },
   "outputs": [
    {
     "data": {
      "text/plain": [
       "(-1.3020216847164583, 0.1934510318276202, 553.0)"
      ]
     },
     "execution_count": 12,
     "metadata": {},
     "output_type": "execute_result"
    }
   ],
   "source": [
    "import statsmodels.api as sm\n",
    "sm.stats.ttest_ind(population1, population2)"
   ]
  }
 ],
 "metadata": {
  "kernelspec": {
   "display_name": "Python 3",
   "language": "python",
   "name": "python3"
  },
  "language_info": {
   "codemirror_mode": {
    "name": "ipython",
    "version": 3
   },
   "file_extension": ".py",
   "mimetype": "text/x-python",
   "name": "python",
   "nbconvert_exporter": "python",
   "pygments_lexer": "ipython3",
   "version": "3.8.8"
  },
  "varInspector": {
   "cols": {
    "lenName": 16,
    "lenType": 16,
    "lenVar": 40
   },
   "kernels_config": {
    "python": {
     "delete_cmd_postfix": "",
     "delete_cmd_prefix": "del ",
     "library": "var_list.py",
     "varRefreshCmd": "print(var_dic_list())"
    },
    "r": {
     "delete_cmd_postfix": ") ",
     "delete_cmd_prefix": "rm(",
     "library": "var_list.r",
     "varRefreshCmd": "cat(var_dic_list()) "
    }
   },
   "types_to_exclude": [
    "module",
    "function",
    "builtin_function_or_method",
    "instance",
    "_Feature"
   ],
   "window_display": false
  }
 },
 "nbformat": 4,
 "nbformat_minor": 5
}
