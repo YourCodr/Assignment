{
 "cells": [
  {
   "cell_type": "code",
   "execution_count": 1,
   "id": "b5edf69c",
   "metadata": {
    "ExecuteTime": {
     "end_time": "2022-03-22T18:21:22.641504Z",
     "start_time": "2022-03-22T18:21:15.114647Z"
    }
   },
   "outputs": [],
   "source": [
    "import yfinance as yf\n",
    "import datetime as dt\n",
    "import pandas as pd\n",
    "import numpy as np\n",
    "from numpy import arange\n",
    "import matplotlib.pyplot as plt\n",
    "from pandas import read_csv\n",
    "from sklearn import metrics\n",
    "from sklearn.model_selection import train_test_split\n",
    "from sklearn.ensemble import RandomForestRegressor\n",
    "from sklearn.preprocessing import StandardScaler\n",
    "from sklearn.model_selection import RandomizedSearchCV\n",
    "import mplfinance as mpf\n",
    "import seaborn as sns\n",
    "\n",
    "import warnings\n",
    "warnings.filterwarnings('ignore')"
   ]
  },
  {
   "cell_type": "code",
   "execution_count": 2,
   "id": "de623051",
   "metadata": {
    "ExecuteTime": {
     "end_time": "2022-03-22T18:21:22.704190Z",
     "start_time": "2022-03-22T18:21:22.641504Z"
    }
   },
   "outputs": [],
   "source": [
    "import yfinance as yahooFinance\n",
    " \n",
    " \n",
    "gold_price = yahooFinance.Ticker(\"GC=F\")"
   ]
  },
  {
   "cell_type": "code",
   "execution_count": 3,
   "id": "47fb7026",
   "metadata": {
    "ExecuteTime": {
     "end_time": "2022-03-22T18:21:25.418004Z",
     "start_time": "2022-03-22T18:21:22.712193Z"
    }
   },
   "outputs": [],
   "source": [
    "Data = gold_price.history(period=\"2y\")"
   ]
  },
  {
   "cell_type": "code",
   "execution_count": 4,
   "id": "bf31a4e6",
   "metadata": {
    "ExecuteTime": {
     "end_time": "2022-03-22T18:21:25.637190Z",
     "start_time": "2022-03-22T18:21:25.418004Z"
    }
   },
   "outputs": [
    {
     "data": {
      "text/html": [
       "<div>\n",
       "<style scoped>\n",
       "    .dataframe tbody tr th:only-of-type {\n",
       "        vertical-align: middle;\n",
       "    }\n",
       "\n",
       "    .dataframe tbody tr th {\n",
       "        vertical-align: top;\n",
       "    }\n",
       "\n",
       "    .dataframe thead th {\n",
       "        text-align: right;\n",
       "    }\n",
       "</style>\n",
       "<table border=\"1\" class=\"dataframe\">\n",
       "  <thead>\n",
       "    <tr style=\"text-align: right;\">\n",
       "      <th></th>\n",
       "      <th>Open</th>\n",
       "      <th>High</th>\n",
       "      <th>Low</th>\n",
       "      <th>Close</th>\n",
       "      <th>Volume</th>\n",
       "      <th>Dividends</th>\n",
       "      <th>Stock Splits</th>\n",
       "    </tr>\n",
       "    <tr>\n",
       "      <th>Date</th>\n",
       "      <th></th>\n",
       "      <th></th>\n",
       "      <th></th>\n",
       "      <th></th>\n",
       "      <th></th>\n",
       "      <th></th>\n",
       "      <th></th>\n",
       "    </tr>\n",
       "  </thead>\n",
       "  <tbody>\n",
       "    <tr>\n",
       "      <th>2020-03-23</th>\n",
       "      <td>1505.300049</td>\n",
       "      <td>1567.000000</td>\n",
       "      <td>1490.199951</td>\n",
       "      <td>1567.000000</td>\n",
       "      <td>51.0</td>\n",
       "      <td>0.0</td>\n",
       "      <td>0.0</td>\n",
       "    </tr>\n",
       "    <tr>\n",
       "      <th>2020-03-24</th>\n",
       "      <td>1592.699951</td>\n",
       "      <td>1685.500000</td>\n",
       "      <td>1592.699951</td>\n",
       "      <td>1660.199951</td>\n",
       "      <td>442.0</td>\n",
       "      <td>0.0</td>\n",
       "      <td>0.0</td>\n",
       "    </tr>\n",
       "    <tr>\n",
       "      <th>2020-03-25</th>\n",
       "      <td>1676.500000</td>\n",
       "      <td>1676.500000</td>\n",
       "      <td>1631.099976</td>\n",
       "      <td>1632.300049</td>\n",
       "      <td>476.0</td>\n",
       "      <td>0.0</td>\n",
       "      <td>0.0</td>\n",
       "    </tr>\n",
       "    <tr>\n",
       "      <th>2020-03-26</th>\n",
       "      <td>1660.500000</td>\n",
       "      <td>1660.500000</td>\n",
       "      <td>1650.099976</td>\n",
       "      <td>1650.099976</td>\n",
       "      <td>3.0</td>\n",
       "      <td>0.0</td>\n",
       "      <td>0.0</td>\n",
       "    </tr>\n",
       "    <tr>\n",
       "      <th>2020-03-27</th>\n",
       "      <td>1623.900024</td>\n",
       "      <td>1623.900024</td>\n",
       "      <td>1623.900024</td>\n",
       "      <td>1623.900024</td>\n",
       "      <td>100638.0</td>\n",
       "      <td>0.0</td>\n",
       "      <td>0.0</td>\n",
       "    </tr>\n",
       "    <tr>\n",
       "      <th>...</th>\n",
       "      <td>...</td>\n",
       "      <td>...</td>\n",
       "      <td>...</td>\n",
       "      <td>...</td>\n",
       "      <td>...</td>\n",
       "      <td>...</td>\n",
       "      <td>...</td>\n",
       "    </tr>\n",
       "    <tr>\n",
       "      <th>2022-03-18</th>\n",
       "      <td>1934.500000</td>\n",
       "      <td>1939.300049</td>\n",
       "      <td>1928.199951</td>\n",
       "      <td>1928.199951</td>\n",
       "      <td>28.0</td>\n",
       "      <td>0.0</td>\n",
       "      <td>0.0</td>\n",
       "    </tr>\n",
       "    <tr>\n",
       "      <th>2022-03-19</th>\n",
       "      <td>NaN</td>\n",
       "      <td>NaN</td>\n",
       "      <td>NaN</td>\n",
       "      <td>NaN</td>\n",
       "      <td>NaN</td>\n",
       "      <td>NaN</td>\n",
       "      <td>NaN</td>\n",
       "    </tr>\n",
       "    <tr>\n",
       "      <th>2022-03-20</th>\n",
       "      <td>NaN</td>\n",
       "      <td>NaN</td>\n",
       "      <td>NaN</td>\n",
       "      <td>NaN</td>\n",
       "      <td>NaN</td>\n",
       "      <td>NaN</td>\n",
       "      <td>NaN</td>\n",
       "    </tr>\n",
       "    <tr>\n",
       "      <th>2022-03-21</th>\n",
       "      <td>1925.400024</td>\n",
       "      <td>1928.599976</td>\n",
       "      <td>1925.000000</td>\n",
       "      <td>1928.599976</td>\n",
       "      <td>28.0</td>\n",
       "      <td>0.0</td>\n",
       "      <td>0.0</td>\n",
       "    </tr>\n",
       "    <tr>\n",
       "      <th>2022-03-22</th>\n",
       "      <td>1936.099976</td>\n",
       "      <td>1939.500000</td>\n",
       "      <td>1909.800049</td>\n",
       "      <td>1922.099976</td>\n",
       "      <td>137492.0</td>\n",
       "      <td>0.0</td>\n",
       "      <td>0.0</td>\n",
       "    </tr>\n",
       "  </tbody>\n",
       "</table>\n",
       "<p>730 rows × 7 columns</p>\n",
       "</div>"
      ],
      "text/plain": [
       "                   Open         High          Low        Close    Volume  \\\n",
       "Date                                                                       \n",
       "2020-03-23  1505.300049  1567.000000  1490.199951  1567.000000      51.0   \n",
       "2020-03-24  1592.699951  1685.500000  1592.699951  1660.199951     442.0   \n",
       "2020-03-25  1676.500000  1676.500000  1631.099976  1632.300049     476.0   \n",
       "2020-03-26  1660.500000  1660.500000  1650.099976  1650.099976       3.0   \n",
       "2020-03-27  1623.900024  1623.900024  1623.900024  1623.900024  100638.0   \n",
       "...                 ...          ...          ...          ...       ...   \n",
       "2022-03-18  1934.500000  1939.300049  1928.199951  1928.199951      28.0   \n",
       "2022-03-19          NaN          NaN          NaN          NaN       NaN   \n",
       "2022-03-20          NaN          NaN          NaN          NaN       NaN   \n",
       "2022-03-21  1925.400024  1928.599976  1925.000000  1928.599976      28.0   \n",
       "2022-03-22  1936.099976  1939.500000  1909.800049  1922.099976  137492.0   \n",
       "\n",
       "            Dividends  Stock Splits  \n",
       "Date                                 \n",
       "2020-03-23        0.0           0.0  \n",
       "2020-03-24        0.0           0.0  \n",
       "2020-03-25        0.0           0.0  \n",
       "2020-03-26        0.0           0.0  \n",
       "2020-03-27        0.0           0.0  \n",
       "...               ...           ...  \n",
       "2022-03-18        0.0           0.0  \n",
       "2022-03-19        NaN           NaN  \n",
       "2022-03-20        NaN           NaN  \n",
       "2022-03-21        0.0           0.0  \n",
       "2022-03-22        0.0           0.0  \n",
       "\n",
       "[730 rows x 7 columns]"
      ]
     },
     "execution_count": 4,
     "metadata": {},
     "output_type": "execute_result"
    }
   ],
   "source": [
    "data = Data.resample('D').mean()\n",
    "data"
   ]
  },
  {
   "cell_type": "code",
   "execution_count": 5,
   "id": "0524fa9e",
   "metadata": {
    "ExecuteTime": {
     "end_time": "2022-03-22T18:21:25.716186Z",
     "start_time": "2022-03-22T18:21:25.643194Z"
    }
   },
   "outputs": [
    {
     "data": {
      "text/html": [
       "<div>\n",
       "<style scoped>\n",
       "    .dataframe tbody tr th:only-of-type {\n",
       "        vertical-align: middle;\n",
       "    }\n",
       "\n",
       "    .dataframe tbody tr th {\n",
       "        vertical-align: top;\n",
       "    }\n",
       "\n",
       "    .dataframe thead th {\n",
       "        text-align: right;\n",
       "    }\n",
       "</style>\n",
       "<table border=\"1\" class=\"dataframe\">\n",
       "  <thead>\n",
       "    <tr style=\"text-align: right;\">\n",
       "      <th></th>\n",
       "      <th>Open</th>\n",
       "      <th>High</th>\n",
       "      <th>Low</th>\n",
       "      <th>Close</th>\n",
       "      <th>Volume</th>\n",
       "      <th>Dividends</th>\n",
       "      <th>Stock Splits</th>\n",
       "    </tr>\n",
       "    <tr>\n",
       "      <th>Date</th>\n",
       "      <th></th>\n",
       "      <th></th>\n",
       "      <th></th>\n",
       "      <th></th>\n",
       "      <th></th>\n",
       "      <th></th>\n",
       "      <th></th>\n",
       "    </tr>\n",
       "  </thead>\n",
       "  <tbody>\n",
       "    <tr>\n",
       "      <th>2020-03-23</th>\n",
       "      <td>1505.300049</td>\n",
       "      <td>1567.000000</td>\n",
       "      <td>1490.199951</td>\n",
       "      <td>1567.000000</td>\n",
       "      <td>51.0</td>\n",
       "      <td>0.0</td>\n",
       "      <td>0.0</td>\n",
       "    </tr>\n",
       "    <tr>\n",
       "      <th>2020-03-24</th>\n",
       "      <td>1592.699951</td>\n",
       "      <td>1685.500000</td>\n",
       "      <td>1592.699951</td>\n",
       "      <td>1660.199951</td>\n",
       "      <td>442.0</td>\n",
       "      <td>0.0</td>\n",
       "      <td>0.0</td>\n",
       "    </tr>\n",
       "    <tr>\n",
       "      <th>2020-03-25</th>\n",
       "      <td>1676.500000</td>\n",
       "      <td>1676.500000</td>\n",
       "      <td>1631.099976</td>\n",
       "      <td>1632.300049</td>\n",
       "      <td>476.0</td>\n",
       "      <td>0.0</td>\n",
       "      <td>0.0</td>\n",
       "    </tr>\n",
       "    <tr>\n",
       "      <th>2020-03-26</th>\n",
       "      <td>1660.500000</td>\n",
       "      <td>1660.500000</td>\n",
       "      <td>1650.099976</td>\n",
       "      <td>1650.099976</td>\n",
       "      <td>3.0</td>\n",
       "      <td>0.0</td>\n",
       "      <td>0.0</td>\n",
       "    </tr>\n",
       "    <tr>\n",
       "      <th>2020-03-27</th>\n",
       "      <td>1623.900024</td>\n",
       "      <td>1623.900024</td>\n",
       "      <td>1623.900024</td>\n",
       "      <td>1623.900024</td>\n",
       "      <td>100638.0</td>\n",
       "      <td>0.0</td>\n",
       "      <td>0.0</td>\n",
       "    </tr>\n",
       "    <tr>\n",
       "      <th>2020-03-28</th>\n",
       "      <td>1629.666667</td>\n",
       "      <td>1633.533366</td>\n",
       "      <td>1618.333333</td>\n",
       "      <td>1623.266683</td>\n",
       "      <td>72555.0</td>\n",
       "      <td>0.0</td>\n",
       "      <td>0.0</td>\n",
       "    </tr>\n",
       "    <tr>\n",
       "      <th>2020-03-29</th>\n",
       "      <td>1635.433309</td>\n",
       "      <td>1643.166707</td>\n",
       "      <td>1612.766642</td>\n",
       "      <td>1622.633341</td>\n",
       "      <td>44472.0</td>\n",
       "      <td>0.0</td>\n",
       "      <td>0.0</td>\n",
       "    </tr>\n",
       "  </tbody>\n",
       "</table>\n",
       "</div>"
      ],
      "text/plain": [
       "                   Open         High          Low        Close    Volume  \\\n",
       "Date                                                                       \n",
       "2020-03-23  1505.300049  1567.000000  1490.199951  1567.000000      51.0   \n",
       "2020-03-24  1592.699951  1685.500000  1592.699951  1660.199951     442.0   \n",
       "2020-03-25  1676.500000  1676.500000  1631.099976  1632.300049     476.0   \n",
       "2020-03-26  1660.500000  1660.500000  1650.099976  1650.099976       3.0   \n",
       "2020-03-27  1623.900024  1623.900024  1623.900024  1623.900024  100638.0   \n",
       "2020-03-28  1629.666667  1633.533366  1618.333333  1623.266683   72555.0   \n",
       "2020-03-29  1635.433309  1643.166707  1612.766642  1622.633341   44472.0   \n",
       "\n",
       "            Dividends  Stock Splits  \n",
       "Date                                 \n",
       "2020-03-23        0.0           0.0  \n",
       "2020-03-24        0.0           0.0  \n",
       "2020-03-25        0.0           0.0  \n",
       "2020-03-26        0.0           0.0  \n",
       "2020-03-27        0.0           0.0  \n",
       "2020-03-28        0.0           0.0  \n",
       "2020-03-29        0.0           0.0  "
      ]
     },
     "execution_count": 5,
     "metadata": {},
     "output_type": "execute_result"
    }
   ],
   "source": [
    "price= data.interpolate(method = 'linear')\n",
    "price.head(7)"
   ]
  },
  {
   "cell_type": "code",
   "execution_count": 6,
   "id": "bf894fdb",
   "metadata": {
    "ExecuteTime": {
     "end_time": "2022-03-22T18:21:25.842259Z",
     "start_time": "2022-03-22T18:21:25.721192Z"
    }
   },
   "outputs": [],
   "source": [
    "df = pd.read_csv('Live Price Gold.csv')"
   ]
  },
  {
   "cell_type": "code",
   "execution_count": 7,
   "id": "8d7e0d78",
   "metadata": {
    "ExecuteTime": {
     "end_time": "2022-03-22T18:21:25.891277Z",
     "start_time": "2022-03-22T18:21:25.846265Z"
    }
   },
   "outputs": [
    {
     "data": {
      "text/plain": [
       "Index(['Date', 'Open', 'High', 'Low', 'Close', 'Volume', 'Dividends',\n",
       "       'Stock Splits'],\n",
       "      dtype='object')"
      ]
     },
     "execution_count": 7,
     "metadata": {},
     "output_type": "execute_result"
    }
   ],
   "source": [
    "df.columns"
   ]
  },
  {
   "cell_type": "code",
   "execution_count": 8,
   "id": "3b40f1ec",
   "metadata": {
    "ExecuteTime": {
     "end_time": "2022-03-22T18:21:25.986282Z",
     "start_time": "2022-03-22T18:21:25.902278Z"
    }
   },
   "outputs": [],
   "source": [
    "df['Date'] = pd.to_datetime(df['Date'])"
   ]
  },
  {
   "cell_type": "code",
   "execution_count": 9,
   "id": "7e519679",
   "metadata": {
    "ExecuteTime": {
     "end_time": "2022-03-22T18:21:26.111356Z",
     "start_time": "2022-03-22T18:21:25.993283Z"
    }
   },
   "outputs": [
    {
     "data": {
      "text/plain": [
       "Close           1.000000\n",
       "Low             0.991746\n",
       "High            0.989494\n",
       "Open            0.979687\n",
       "Volume          0.051740\n",
       "Dividends            NaN\n",
       "Stock Splits         NaN\n",
       "Name: Close, dtype: float64"
      ]
     },
     "execution_count": 9,
     "metadata": {},
     "output_type": "execute_result"
    }
   ],
   "source": [
    "all_corr = df.corr().abs()['Close'].sort_values(ascending = False)\n",
    "all_corr"
   ]
  },
  {
   "cell_type": "code",
   "execution_count": 10,
   "id": "5d84036f",
   "metadata": {
    "ExecuteTime": {
     "end_time": "2022-03-22T18:21:26.256340Z",
     "start_time": "2022-03-22T18:21:26.117361Z"
    }
   },
   "outputs": [],
   "source": [
    "df.drop(columns=['Dividends','Stock Splits'],inplace=True)"
   ]
  },
  {
   "cell_type": "code",
   "execution_count": 11,
   "id": "9a66a769",
   "metadata": {
    "ExecuteTime": {
     "end_time": "2022-03-22T18:21:26.429158Z",
     "start_time": "2022-03-22T18:21:26.260344Z"
    }
   },
   "outputs": [
    {
     "data": {
      "text/plain": [
       "Volume    0.05174\n",
       "Name: Close, dtype: float64"
      ]
     },
     "execution_count": 11,
     "metadata": {},
     "output_type": "execute_result"
    }
   ],
   "source": [
    "corr_drop = all_corr[all_corr < 0.35]\n",
    "corr_drop"
   ]
  },
  {
   "cell_type": "code",
   "execution_count": 12,
   "id": "779f1a70",
   "metadata": {
    "ExecuteTime": {
     "end_time": "2022-03-22T18:21:26.725293Z",
     "start_time": "2022-03-22T18:21:26.435155Z"
    }
   },
   "outputs": [
    {
     "data": {
      "text/html": [
       "<div>\n",
       "<style scoped>\n",
       "    .dataframe tbody tr th:only-of-type {\n",
       "        vertical-align: middle;\n",
       "    }\n",
       "\n",
       "    .dataframe tbody tr th {\n",
       "        vertical-align: top;\n",
       "    }\n",
       "\n",
       "    .dataframe thead th {\n",
       "        text-align: right;\n",
       "    }\n",
       "</style>\n",
       "<table border=\"1\" class=\"dataframe\">\n",
       "  <thead>\n",
       "    <tr style=\"text-align: right;\">\n",
       "      <th></th>\n",
       "      <th>Date</th>\n",
       "      <th>Open</th>\n",
       "      <th>High</th>\n",
       "      <th>Low</th>\n",
       "      <th>Close</th>\n",
       "    </tr>\n",
       "  </thead>\n",
       "  <tbody>\n",
       "    <tr>\n",
       "      <th>0</th>\n",
       "      <td>2020-03-20</td>\n",
       "      <td>1483.500000</td>\n",
       "      <td>1484.000000</td>\n",
       "      <td>1483.500000</td>\n",
       "      <td>1484.000000</td>\n",
       "    </tr>\n",
       "    <tr>\n",
       "      <th>1</th>\n",
       "      <td>2020-03-21</td>\n",
       "      <td>1490.766683</td>\n",
       "      <td>1511.666667</td>\n",
       "      <td>1485.733317</td>\n",
       "      <td>1511.666667</td>\n",
       "    </tr>\n",
       "    <tr>\n",
       "      <th>2</th>\n",
       "      <td>2020-03-22</td>\n",
       "      <td>1498.033366</td>\n",
       "      <td>1539.333333</td>\n",
       "      <td>1487.966634</td>\n",
       "      <td>1539.333333</td>\n",
       "    </tr>\n",
       "    <tr>\n",
       "      <th>3</th>\n",
       "      <td>2020-03-23</td>\n",
       "      <td>1505.300049</td>\n",
       "      <td>1567.000000</td>\n",
       "      <td>1490.199951</td>\n",
       "      <td>1567.000000</td>\n",
       "    </tr>\n",
       "    <tr>\n",
       "      <th>4</th>\n",
       "      <td>2020-03-24</td>\n",
       "      <td>1592.699951</td>\n",
       "      <td>1685.500000</td>\n",
       "      <td>1592.699951</td>\n",
       "      <td>1660.199951</td>\n",
       "    </tr>\n",
       "  </tbody>\n",
       "</table>\n",
       "</div>"
      ],
      "text/plain": [
       "        Date         Open         High          Low        Close\n",
       "0 2020-03-20  1483.500000  1484.000000  1483.500000  1484.000000\n",
       "1 2020-03-21  1490.766683  1511.666667  1485.733317  1511.666667\n",
       "2 2020-03-22  1498.033366  1539.333333  1487.966634  1539.333333\n",
       "3 2020-03-23  1505.300049  1567.000000  1490.199951  1567.000000\n",
       "4 2020-03-24  1592.699951  1685.500000  1592.699951  1660.199951"
      ]
     },
     "execution_count": 12,
     "metadata": {},
     "output_type": "execute_result"
    }
   ],
   "source": [
    "to_drop = list(corr_drop.index)\n",
    "df2 = df.drop(to_drop, axis = 1)\n",
    "df2.head()"
   ]
  },
  {
   "cell_type": "code",
   "execution_count": 13,
   "id": "d56e7273",
   "metadata": {
    "ExecuteTime": {
     "end_time": "2022-03-22T18:21:26.855136Z",
     "start_time": "2022-03-22T18:21:26.731296Z"
    },
    "scrolled": true
   },
   "outputs": [
    {
     "data": {
      "text/html": [
       "<div>\n",
       "<style scoped>\n",
       "    .dataframe tbody tr th:only-of-type {\n",
       "        vertical-align: middle;\n",
       "    }\n",
       "\n",
       "    .dataframe tbody tr th {\n",
       "        vertical-align: top;\n",
       "    }\n",
       "\n",
       "    .dataframe thead th {\n",
       "        text-align: right;\n",
       "    }\n",
       "</style>\n",
       "<table border=\"1\" class=\"dataframe\">\n",
       "  <thead>\n",
       "    <tr style=\"text-align: right;\">\n",
       "      <th></th>\n",
       "      <th>Open</th>\n",
       "      <th>High</th>\n",
       "      <th>Low</th>\n",
       "      <th>Close</th>\n",
       "    </tr>\n",
       "    <tr>\n",
       "      <th>Date</th>\n",
       "      <th></th>\n",
       "      <th></th>\n",
       "      <th></th>\n",
       "      <th></th>\n",
       "    </tr>\n",
       "  </thead>\n",
       "  <tbody>\n",
       "    <tr>\n",
       "      <th>2020-03-20</th>\n",
       "      <td>1483.500000</td>\n",
       "      <td>1484.000000</td>\n",
       "      <td>1483.500000</td>\n",
       "      <td>1484.000000</td>\n",
       "    </tr>\n",
       "    <tr>\n",
       "      <th>2020-03-21</th>\n",
       "      <td>1490.766683</td>\n",
       "      <td>1511.666667</td>\n",
       "      <td>1485.733317</td>\n",
       "      <td>1511.666667</td>\n",
       "    </tr>\n",
       "    <tr>\n",
       "      <th>2020-03-22</th>\n",
       "      <td>1498.033366</td>\n",
       "      <td>1539.333333</td>\n",
       "      <td>1487.966634</td>\n",
       "      <td>1539.333333</td>\n",
       "    </tr>\n",
       "    <tr>\n",
       "      <th>2020-03-23</th>\n",
       "      <td>1505.300049</td>\n",
       "      <td>1567.000000</td>\n",
       "      <td>1490.199951</td>\n",
       "      <td>1567.000000</td>\n",
       "    </tr>\n",
       "    <tr>\n",
       "      <th>2020-03-24</th>\n",
       "      <td>1592.699951</td>\n",
       "      <td>1685.500000</td>\n",
       "      <td>1592.699951</td>\n",
       "      <td>1660.199951</td>\n",
       "    </tr>\n",
       "    <tr>\n",
       "      <th>...</th>\n",
       "      <td>...</td>\n",
       "      <td>...</td>\n",
       "      <td>...</td>\n",
       "      <td>...</td>\n",
       "    </tr>\n",
       "    <tr>\n",
       "      <th>2022-03-14</th>\n",
       "      <td>1976.500000</td>\n",
       "      <td>1977.699951</td>\n",
       "      <td>1959.599976</td>\n",
       "      <td>1959.599976</td>\n",
       "    </tr>\n",
       "    <tr>\n",
       "      <th>2022-03-15</th>\n",
       "      <td>1939.800049</td>\n",
       "      <td>1939.900024</td>\n",
       "      <td>1910.699951</td>\n",
       "      <td>1928.500000</td>\n",
       "    </tr>\n",
       "    <tr>\n",
       "      <th>2022-03-16</th>\n",
       "      <td>1922.400024</td>\n",
       "      <td>1922.400024</td>\n",
       "      <td>1907.199951</td>\n",
       "      <td>1908.000000</td>\n",
       "    </tr>\n",
       "    <tr>\n",
       "      <th>2022-03-17</th>\n",
       "      <td>1933.900024</td>\n",
       "      <td>1947.199951</td>\n",
       "      <td>1933.900024</td>\n",
       "      <td>1942.099976</td>\n",
       "    </tr>\n",
       "    <tr>\n",
       "      <th>2022-03-18</th>\n",
       "      <td>1934.500000</td>\n",
       "      <td>1939.300049</td>\n",
       "      <td>1928.199951</td>\n",
       "      <td>1928.199951</td>\n",
       "    </tr>\n",
       "  </tbody>\n",
       "</table>\n",
       "<p>729 rows × 4 columns</p>\n",
       "</div>"
      ],
      "text/plain": [
       "                   Open         High          Low        Close\n",
       "Date                                                          \n",
       "2020-03-20  1483.500000  1484.000000  1483.500000  1484.000000\n",
       "2020-03-21  1490.766683  1511.666667  1485.733317  1511.666667\n",
       "2020-03-22  1498.033366  1539.333333  1487.966634  1539.333333\n",
       "2020-03-23  1505.300049  1567.000000  1490.199951  1567.000000\n",
       "2020-03-24  1592.699951  1685.500000  1592.699951  1660.199951\n",
       "...                 ...          ...          ...          ...\n",
       "2022-03-14  1976.500000  1977.699951  1959.599976  1959.599976\n",
       "2022-03-15  1939.800049  1939.900024  1910.699951  1928.500000\n",
       "2022-03-16  1922.400024  1922.400024  1907.199951  1908.000000\n",
       "2022-03-17  1933.900024  1947.199951  1933.900024  1942.099976\n",
       "2022-03-18  1934.500000  1939.300049  1928.199951  1928.199951\n",
       "\n",
       "[729 rows x 4 columns]"
      ]
     },
     "execution_count": 13,
     "metadata": {},
     "output_type": "execute_result"
    }
   ],
   "source": [
    "df2 = df2.set_index(\"Date\")\n",
    "df2"
   ]
  },
  {
   "cell_type": "code",
   "execution_count": 14,
   "id": "e60949d5",
   "metadata": {
    "ExecuteTime": {
     "end_time": "2022-03-22T18:21:31.459285Z",
     "start_time": "2022-03-22T18:21:26.860261Z"
    }
   },
   "outputs": [
    {
     "data": {
      "image/png": "[encoded data removed]",
      "text/plain": [
       "<Figure size 800x480 with 6 Axes>"
      ]
     },
     "metadata": {},
     "output_type": "display_data"
    }
   ],
   "source": [
    "import matplotlib.pyplot as plt\n",
    "\n",
    "titles = ['Open', 'High', 'Low', 'Close', 'Volume' ]\n",
    "feature_keys = ['Open', 'High', 'Low', 'Close', 'Volume']\n",
    "\n",
    "colors = [ \"blue\",\"orange\",\"green\",\"red\",\"purple\"]\n",
    "\n",
    "date_time_key = \"Date\"\n",
    "\n",
    "def show_raw_visualization(data):\n",
    "    time_data = data[date_time_key]\n",
    "    fig, axes = plt.subplots(\n",
    "        nrows=3, ncols=2, figsize=(10,6), dpi=80, facecolor=\"w\", edgecolor=\"k\"\n",
    "    )\n",
    "    for i in range(len(feature_keys)):\n",
    "        key = feature_keys[i]\n",
    "        c = colors[i % (len(colors))]\n",
    "        t_data = data[key]\n",
    "        t_data.index = time_data\n",
    "        t_data.head()\n",
    "        ax = t_data.plot(\n",
    "            ax=axes[i // 2, i % 2],\n",
    "            color=c,\n",
    "            title=\"{} - {}\".format(titles[i], key),\n",
    "            rot=25,\n",
    "        )\n",
    "        ax.legend([titles[i]])\n",
    "    plt.tight_layout()\n",
    "\n",
    "\n",
    "show_raw_visualization(df)\n",
    "\n"
   ]
  },
  {
   "cell_type": "code",
   "execution_count": 15,
   "id": "93642970",
   "metadata": {
    "ExecuteTime": {
     "end_time": "2022-03-22T18:21:31.491283Z",
     "start_time": "2022-03-22T18:21:31.465289Z"
    }
   },
   "outputs": [],
   "source": [
    "from sklearn.model_selection import TimeSeriesSplit\n",
    "\n",
    "tss = TimeSeriesSplit(n_splits = 3)\n",
    "X = df2.drop(['Close'], axis = 1)\n",
    "y = df2['Close']"
   ]
  },
  {
   "cell_type": "code",
   "execution_count": 16,
   "id": "a680499e",
   "metadata": {
    "ExecuteTime": {
     "end_time": "2022-03-22T18:21:31.626825Z",
     "start_time": "2022-03-22T18:21:31.504285Z"
    }
   },
   "outputs": [],
   "source": [
    "for train_index, test_index in tss.split(X):\n",
    "    X_train, X_test = X.iloc[train_index, :], X.iloc[test_index,:]\n",
    "    y_train, y_test = y.iloc[train_index], y.iloc[test_index]"
   ]
  },
  {
   "cell_type": "code",
   "execution_count": 67,
   "id": "d0484d22",
   "metadata": {
    "ExecuteTime": {
     "end_time": "2022-03-22T19:39:09.151451Z",
     "start_time": "2022-03-22T19:39:09.120257Z"
    }
   },
   "outputs": [
    {
     "data": {
      "text/plain": [
       "((182, 3), (547, 3))"
      ]
     },
     "execution_count": 67,
     "metadata": {},
     "output_type": "execute_result"
    }
   ],
   "source": [
    "X_test.shape,X_train.shape"
   ]
  },
  {
   "cell_type": "code",
   "execution_count": 69,
   "id": "c768056d",
   "metadata": {
    "ExecuteTime": {
     "end_time": "2022-03-23T03:14:04.201591Z",
     "start_time": "2022-03-23T03:14:04.185594Z"
    }
   },
   "outputs": [
    {
     "data": {
      "text/plain": [
       "((182,), (547,), (182,))"
      ]
     },
     "execution_count": 69,
     "metadata": {},
     "output_type": "execute_result"
    }
   ],
   "source": [
    "y_test.shape, y_train.shape, y_pred.shape"
   ]
  },
  {
   "cell_type": "markdown",
   "id": "7b07c788",
   "metadata": {},
   "source": [
    "# LGBM Regressor with Repeated stratified K fold"
   ]
  },
  {
   "cell_type": "code",
   "execution_count": 17,
   "id": "b1aab18b",
   "metadata": {
    "ExecuteTime": {
     "end_time": "2022-03-22T18:21:37.735604Z",
     "start_time": "2022-03-22T18:21:31.630837Z"
    }
   },
   "outputs": [],
   "source": [
    "from lightgbm import LGBMRegressor\n",
    "from sklearn.model_selection import cross_val_score\n",
    "from sklearn.model_selection import RepeatedKFold\n",
    "\n",
    "model = LGBMRegressor()\n",
    "cv = RepeatedKFold(n_splits=10, n_repeats=1, random_state=1)"
   ]
  },
  {
   "cell_type": "code",
   "execution_count": 18,
   "id": "324868e7",
   "metadata": {
    "ExecuteTime": {
     "end_time": "2022-03-22T18:21:46.594657Z",
     "start_time": "2022-03-22T18:21:37.735604Z"
    }
   },
   "outputs": [
    {
     "name": "stdout",
     "output_type": "stream",
     "text": [
      "Negative MAE: -7.771 (1.769)\n"
     ]
    }
   ],
   "source": [
    "n_scores = cross_val_score(model, X_train, y_train, scoring='neg_mean_absolute_error', cv=cv, n_jobs=-1, error_score='raise')\n",
    "\n",
    "from numpy import mean\n",
    "from numpy import std\n",
    "print('Negative MAE: %.3f (%.3f)' % (mean(n_scores), std(n_scores)))"
   ]
  },
  {
   "cell_type": "code",
   "execution_count": 19,
   "id": "ad65ceaf",
   "metadata": {
    "ExecuteTime": {
     "end_time": "2022-03-22T18:21:46.902119Z",
     "start_time": "2022-03-22T18:21:46.598773Z"
    }
   },
   "outputs": [
    {
     "name": "stdout",
     "output_type": "stream",
     "text": [
      "The Mean Absolute error is:  5.003462978762876\n"
     ]
    }
   ],
   "source": [
    "model.fit(X_train, y_train)\n",
    "y_pred= model.predict(X_test)\n",
    "from sklearn.metrics import mean_absolute_error\n",
    "print(\"The Mean Absolute error is: \", mean_absolute_error(y_test, y_pred))"
   ]
  },
  {
   "cell_type": "code",
   "execution_count": 20,
   "id": "33166fc9",
   "metadata": {
    "ExecuteTime": {
     "end_time": "2022-03-22T18:21:47.137541Z",
     "start_time": "2022-03-22T18:21:46.908115Z"
    }
   },
   "outputs": [
    {
     "data": {
      "text/plain": [
       "0.9839769372629056"
      ]
     },
     "execution_count": 20,
     "metadata": {},
     "output_type": "execute_result"
    }
   ],
   "source": [
    "model.score(X_test, y_test)"
   ]
  },
  {
   "cell_type": "code",
   "execution_count": 21,
   "id": "c6cb5f5c",
   "metadata": {
    "ExecuteTime": {
     "end_time": "2022-03-22T18:21:47.610432Z",
     "start_time": "2022-03-22T18:21:47.142544Z"
    }
   },
   "outputs": [
    {
     "data": {
      "text/plain": [
       "0.9814852307593177"
      ]
     },
     "execution_count": 21,
     "metadata": {},
     "output_type": "execute_result"
    }
   ],
   "source": [
    "model.score(X_train, y_train)"
   ]
  },
  {
   "cell_type": "code",
   "execution_count": 22,
   "id": "c7a24a1e",
   "metadata": {
    "ExecuteTime": {
     "end_time": "2022-03-22T18:21:48.060905Z",
     "start_time": "2022-03-22T18:21:47.615435Z"
    }
   },
   "outputs": [
    {
     "data": {
      "text/html": [
       "<div>\n",
       "<style scoped>\n",
       "    .dataframe tbody tr th:only-of-type {\n",
       "        vertical-align: middle;\n",
       "    }\n",
       "\n",
       "    .dataframe tbody tr th {\n",
       "        vertical-align: top;\n",
       "    }\n",
       "\n",
       "    .dataframe thead th {\n",
       "        text-align: right;\n",
       "    }\n",
       "</style>\n",
       "<table border=\"1\" class=\"dataframe\">\n",
       "  <thead>\n",
       "    <tr style=\"text-align: right;\">\n",
       "      <th></th>\n",
       "      <th>Actual</th>\n",
       "      <th>Predicted</th>\n",
       "    </tr>\n",
       "    <tr>\n",
       "      <th>Date</th>\n",
       "      <th></th>\n",
       "      <th></th>\n",
       "    </tr>\n",
       "  </thead>\n",
       "  <tbody>\n",
       "    <tr>\n",
       "      <th>2021-09-18</th>\n",
       "      <td>1753.533366</td>\n",
       "      <td>1751.357325</td>\n",
       "    </tr>\n",
       "    <tr>\n",
       "      <th>2021-09-19</th>\n",
       "      <td>1757.666707</td>\n",
       "      <td>1759.133766</td>\n",
       "    </tr>\n",
       "    <tr>\n",
       "      <th>2021-09-20</th>\n",
       "      <td>1761.800049</td>\n",
       "      <td>1760.078975</td>\n",
       "    </tr>\n",
       "    <tr>\n",
       "      <th>2021-09-21</th>\n",
       "      <td>1776.000000</td>\n",
       "      <td>1773.730026</td>\n",
       "    </tr>\n",
       "    <tr>\n",
       "      <th>2021-09-22</th>\n",
       "      <td>1776.699951</td>\n",
       "      <td>1776.488218</td>\n",
       "    </tr>\n",
       "    <tr>\n",
       "      <th>...</th>\n",
       "      <td>...</td>\n",
       "      <td>...</td>\n",
       "    </tr>\n",
       "    <tr>\n",
       "      <th>2022-03-14</th>\n",
       "      <td>1959.599976</td>\n",
       "      <td>1992.472904</td>\n",
       "    </tr>\n",
       "    <tr>\n",
       "      <th>2022-03-15</th>\n",
       "      <td>1928.500000</td>\n",
       "      <td>1924.268539</td>\n",
       "    </tr>\n",
       "    <tr>\n",
       "      <th>2022-03-16</th>\n",
       "      <td>1908.000000</td>\n",
       "      <td>1914.344368</td>\n",
       "    </tr>\n",
       "    <tr>\n",
       "      <th>2022-03-17</th>\n",
       "      <td>1942.099976</td>\n",
       "      <td>1949.922054</td>\n",
       "    </tr>\n",
       "    <tr>\n",
       "      <th>2022-03-18</th>\n",
       "      <td>1928.199951</td>\n",
       "      <td>1936.180690</td>\n",
       "    </tr>\n",
       "  </tbody>\n",
       "</table>\n",
       "<p>182 rows × 2 columns</p>\n",
       "</div>"
      ],
      "text/plain": [
       "                 Actual    Predicted\n",
       "Date                                \n",
       "2021-09-18  1753.533366  1751.357325\n",
       "2021-09-19  1757.666707  1759.133766\n",
       "2021-09-20  1761.800049  1760.078975\n",
       "2021-09-21  1776.000000  1773.730026\n",
       "2021-09-22  1776.699951  1776.488218\n",
       "...                 ...          ...\n",
       "2022-03-14  1959.599976  1992.472904\n",
       "2022-03-15  1928.500000  1924.268539\n",
       "2022-03-16  1908.000000  1914.344368\n",
       "2022-03-17  1942.099976  1949.922054\n",
       "2022-03-18  1928.199951  1936.180690\n",
       "\n",
       "[182 rows x 2 columns]"
      ]
     },
     "execution_count": 22,
     "metadata": {},
     "output_type": "execute_result"
    }
   ],
   "source": [
    "result = pd.DataFrame({'Actual': y_test, 'Predicted': y_pred})\n",
    "result"
   ]
  },
  {
   "cell_type": "code",
   "execution_count": 23,
   "id": "4c0663a2",
   "metadata": {
    "ExecuteTime": {
     "end_time": "2022-03-22T18:21:50.728878Z",
     "start_time": "2022-03-22T18:21:48.078902Z"
    },
    "scrolled": false
   },
   "outputs": [
    {
     "data": {
      "image/png": "[encoded data removed]",
      "text/plain": [
       "<Figure size 1152x720 with 1 Axes>"
      ]
     },
     "metadata": {
      "needs_background": "light"
     },
     "output_type": "display_data"
    }
   ],
   "source": [
    "result_plot = result.head(30)\n",
    "result_plot.plot(kind='bar',figsize=(16,10))\n",
    "plt.grid(which='major', linestyle='-', linewidth='0.5', color='green')\n",
    "plt.grid(which='minor', linestyle=':', linewidth='0.5', color='black')\n",
    "plt.show()"
   ]
  },
  {
   "cell_type": "code",
   "execution_count": null,
   "id": "07ff9258",
   "metadata": {},
   "outputs": [],
   "source": []
  }
 ],
 "metadata": {
  "kernelspec": {
   "display_name": "Python 3",
   "language": "python",
   "name": "python3"
  },
  "language_info": {
   "codemirror_mode": {
    "name": "ipython",
    "version": 3
   },
   "file_extension": ".py",
   "mimetype": "text/x-python",
   "name": "python",
   "nbconvert_exporter": "python",
   "pygments_lexer": "ipython3",
   "version": "3.8.8"
  },
  "varInspector": {
   "cols": {
    "lenName": 16,
    "lenType": 16,
    "lenVar": 40
   },
   "kernels_config": {
    "python": {
     "delete_cmd_postfix": "",
     "delete_cmd_prefix": "del ",
     "library": "var_list.py",
     "varRefreshCmd": "print(var_dic_list())"
    },
    "r": {
     "delete_cmd_postfix": ") ",
     "delete_cmd_prefix": "rm(",
     "library": "var_list.r",
     "varRefreshCmd": "cat(var_dic_list()) "
    }
   },
   "types_to_exclude": [
    "module",
    "function",
    "builtin_function_or_method",
    "instance",
    "_Feature"
   ],
   "window_display": false
  }
 },
 "nbformat": 4,
 "nbformat_minor": 5
}
