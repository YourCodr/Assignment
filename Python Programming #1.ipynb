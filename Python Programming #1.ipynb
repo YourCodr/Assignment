{
 "cells": [
  {
   "cell_type": "markdown",
   "id": "cbe4b3c6",
   "metadata": {},
   "source": [
    "# Chapter 1 - First Python Programming"
   ]
  },
  {
   "cell_type": "markdown",
   "id": "12a6dcc9",
   "metadata": {},
   "source": [
    "## 1[A] Hello World "
   ]
  },
  {
   "cell_type": "code",
   "execution_count": 1,
   "id": "40776a66",
   "metadata": {
    "ExecuteTime": {
     "end_time": "2021-12-19T19:50:47.003832Z",
     "start_time": "2021-12-19T19:50:46.977834Z"
    }
   },
   "outputs": [
    {
     "name": "stdout",
     "output_type": "stream",
     "text": [
      "welcome to data science session.\n"
     ]
    }
   ],
   "source": [
    "print('welcome to data science session.')"
   ]
  },
  {
   "cell_type": "code",
   "execution_count": 2,
   "id": "d5da8017",
   "metadata": {
    "ExecuteTime": {
     "end_time": "2021-12-19T19:50:47.113827Z",
     "start_time": "2021-12-19T19:50:47.009832Z"
    }
   },
   "outputs": [
    {
     "name": "stdout",
     "output_type": "stream",
     "text": [
      "Anil said, John sir's session is bit boring.\n"
     ]
    }
   ],
   "source": [
    "print(\"Anil said, John sir's session is bit boring.\")"
   ]
  },
  {
   "cell_type": "code",
   "execution_count": 3,
   "id": "738f09c8",
   "metadata": {
    "ExecuteTime": {
     "end_time": "2021-12-19T19:50:47.209819Z",
     "start_time": "2021-12-19T19:50:47.120826Z"
    }
   },
   "outputs": [
    {
     "name": "stdout",
     "output_type": "stream",
     "text": [
      "Anil replied, John sir's session is bit boring.\n"
     ]
    }
   ],
   "source": [
    "print('''Anil replied, John sir's session is bit boring.''')"
   ]
  },
  {
   "cell_type": "code",
   "execution_count": 4,
   "id": "eb1d61d6",
   "metadata": {
    "ExecuteTime": {
     "end_time": "2021-12-19T19:50:47.321811Z",
     "start_time": "2021-12-19T19:50:47.216819Z"
    }
   },
   "outputs": [
    {
     "name": "stdout",
     "output_type": "stream",
     "text": [
      "629\n"
     ]
    }
   ],
   "source": [
    "print(6+56+567)"
   ]
  },
  {
   "cell_type": "markdown",
   "id": "31ac2f2e",
   "metadata": {},
   "source": [
    "## 2[b] Create a Variable"
   ]
  },
  {
   "cell_type": "code",
   "execution_count": 5,
   "id": "5d29585e",
   "metadata": {
    "ExecuteTime": {
     "end_time": "2021-12-19T19:50:47.448805Z",
     "start_time": "2021-12-19T19:50:47.326809Z"
    }
   },
   "outputs": [],
   "source": [
    "participants = 'Manoj', 'Anil', 'Bhavuk', 'Riya', 'Dikshita'"
   ]
  },
  {
   "cell_type": "code",
   "execution_count": 6,
   "id": "0464be6e",
   "metadata": {
    "ExecuteTime": {
     "end_time": "2021-12-19T19:50:47.592796Z",
     "start_time": "2021-12-19T19:50:47.454805Z"
    }
   },
   "outputs": [
    {
     "data": {
      "text/plain": [
       "('Manoj', 'Anil', 'Bhavuk', 'Riya', 'Dikshita')"
      ]
     },
     "execution_count": 6,
     "metadata": {},
     "output_type": "execute_result"
    }
   ],
   "source": [
    "participants"
   ]
  },
  {
   "cell_type": "code",
   "execution_count": 7,
   "id": "bb9148f0",
   "metadata": {
    "ExecuteTime": {
     "end_time": "2021-12-19T19:50:47.703785Z",
     "start_time": "2021-12-19T19:50:47.598796Z"
    }
   },
   "outputs": [
    {
     "data": {
      "text/plain": [
       "5"
      ]
     },
     "execution_count": 7,
     "metadata": {},
     "output_type": "execute_result"
    }
   ],
   "source": [
    "len(participants)"
   ]
  },
  {
   "cell_type": "code",
   "execution_count": 8,
   "id": "e5aa95a3",
   "metadata": {
    "ExecuteTime": {
     "end_time": "2021-12-19T19:50:47.831781Z",
     "start_time": "2021-12-19T19:50:47.713787Z"
    }
   },
   "outputs": [
    {
     "data": {
      "text/plain": [
       "'Riya'"
      ]
     },
     "execution_count": 8,
     "metadata": {},
     "output_type": "execute_result"
    }
   ],
   "source": [
    "participants[3]"
   ]
  },
  {
   "cell_type": "code",
   "execution_count": 9,
   "id": "efbf4c1e",
   "metadata": {
    "ExecuteTime": {
     "end_time": "2021-12-19T19:50:47.959629Z",
     "start_time": "2021-12-19T19:50:47.840781Z"
    }
   },
   "outputs": [
    {
     "data": {
      "text/plain": [
       "('Manoj', 'Anil', 'Bhavuk', 'Riya', 'Dikshita')"
      ]
     },
     "execution_count": 9,
     "metadata": {},
     "output_type": "execute_result"
    }
   ],
   "source": [
    "participants[:]"
   ]
  },
  {
   "cell_type": "code",
   "execution_count": 10,
   "id": "cc2b5933",
   "metadata": {
    "ExecuteTime": {
     "end_time": "2021-12-19T19:50:48.117666Z",
     "start_time": "2021-12-19T19:50:47.966625Z"
    }
   },
   "outputs": [
    {
     "data": {
      "text/plain": [
       "('Anil', 'Bhavuk', 'Riya', 'Dikshita')"
      ]
     },
     "execution_count": 10,
     "metadata": {},
     "output_type": "execute_result"
    }
   ],
   "source": [
    "participants[1:]"
   ]
  },
  {
   "cell_type": "code",
   "execution_count": 11,
   "id": "bc397a8b",
   "metadata": {
    "ExecuteTime": {
     "end_time": "2021-12-19T19:50:48.337202Z",
     "start_time": "2021-12-19T19:50:48.122666Z"
    }
   },
   "outputs": [
    {
     "data": {
      "text/plain": [
       "('Bhavuk', 'Riya')"
      ]
     },
     "execution_count": 11,
     "metadata": {},
     "output_type": "execute_result"
    }
   ],
   "source": [
    "participants[2:4]"
   ]
  },
  {
   "cell_type": "markdown",
   "id": "ab80a5bc",
   "metadata": {},
   "source": [
    "# Chapter 2 -  String and String Methods "
   ]
  },
  {
   "cell_type": "markdown",
   "id": "44ad4862",
   "metadata": {},
   "source": [
    "**3 Datatypes in Python:**\n",
    "1. Int - Integer - only whole numbers\n",
    "2. Float - with decimal points\n",
    "3. String - anyrthing which is enclosed within quotes"
   ]
  },
  {
   "cell_type": "code",
   "execution_count": 12,
   "id": "04005675",
   "metadata": {
    "ExecuteTime": {
     "end_time": "2021-12-19T19:50:48.448427Z",
     "start_time": "2021-12-19T19:50:48.343205Z"
    }
   },
   "outputs": [],
   "source": [
    "Manoj_score = 100"
   ]
  },
  {
   "cell_type": "code",
   "execution_count": 13,
   "id": "127cdfe0",
   "metadata": {
    "ExecuteTime": {
     "end_time": "2021-12-19T19:50:48.534413Z",
     "start_time": "2021-12-19T19:50:48.453429Z"
    }
   },
   "outputs": [
    {
     "data": {
      "text/plain": [
       "int"
      ]
     },
     "execution_count": 13,
     "metadata": {},
     "output_type": "execute_result"
    }
   ],
   "source": [
    "type(Manoj_score)"
   ]
  },
  {
   "cell_type": "code",
   "execution_count": 14,
   "id": "5eedbcb3",
   "metadata": {
    "ExecuteTime": {
     "end_time": "2021-12-19T19:50:48.657173Z",
     "start_time": "2021-12-19T19:50:48.539409Z"
    }
   },
   "outputs": [],
   "source": [
    "A_average = \"8.5\""
   ]
  },
  {
   "cell_type": "code",
   "execution_count": 15,
   "id": "b7a0a695",
   "metadata": {
    "ExecuteTime": {
     "end_time": "2021-12-19T19:50:48.766872Z",
     "start_time": "2021-12-19T19:50:48.662550Z"
    }
   },
   "outputs": [
    {
     "data": {
      "text/plain": [
       "str"
      ]
     },
     "execution_count": 15,
     "metadata": {},
     "output_type": "execute_result"
    }
   ],
   "source": [
    "type(A_average)"
   ]
  },
  {
   "cell_type": "code",
   "execution_count": 16,
   "id": "3970b906",
   "metadata": {
    "ExecuteTime": {
     "end_time": "2021-12-19T19:50:48.862896Z",
     "start_time": "2021-12-19T19:50:48.771875Z"
    }
   },
   "outputs": [],
   "source": [
    "A_average = 8.5"
   ]
  },
  {
   "cell_type": "code",
   "execution_count": 17,
   "id": "e34eb9a9",
   "metadata": {
    "ExecuteTime": {
     "end_time": "2021-12-19T19:50:48.975808Z",
     "start_time": "2021-12-19T19:50:48.867895Z"
    }
   },
   "outputs": [
    {
     "data": {
      "text/plain": [
       "float"
      ]
     },
     "execution_count": 17,
     "metadata": {},
     "output_type": "execute_result"
    }
   ],
   "source": [
    "type(A_average)"
   ]
  },
  {
   "cell_type": "markdown",
   "id": "554e85c3",
   "metadata": {},
   "source": [
    "## 2[b] Concatenation - Indexing - Slicing"
   ]
  },
  {
   "cell_type": "code",
   "execution_count": 18,
   "id": "7a07c567",
   "metadata": {
    "ExecuteTime": {
     "end_time": "2021-12-19T19:50:49.069790Z",
     "start_time": "2021-12-19T19:50:48.981053Z"
    }
   },
   "outputs": [],
   "source": [
    "fname = 'Manoj'\n",
    "iname = 'Bhavuk'"
   ]
  },
  {
   "cell_type": "code",
   "execution_count": 19,
   "id": "d0fab117",
   "metadata": {
    "ExecuteTime": {
     "end_time": "2021-12-19T19:50:49.257014Z",
     "start_time": "2021-12-19T19:50:49.073800Z"
    }
   },
   "outputs": [
    {
     "data": {
      "text/plain": [
       "'Bhavuk'"
      ]
     },
     "execution_count": 19,
     "metadata": {},
     "output_type": "execute_result"
    }
   ],
   "source": [
    "fname\n",
    "iname "
   ]
  },
  {
   "cell_type": "code",
   "execution_count": 20,
   "id": "7119475d",
   "metadata": {
    "ExecuteTime": {
     "end_time": "2021-12-19T19:50:49.385299Z",
     "start_time": "2021-12-19T19:50:49.261910Z"
    }
   },
   "outputs": [
    {
     "data": {
      "text/plain": [
       "('Manoj', 'Bhavuk')"
      ]
     },
     "execution_count": 20,
     "metadata": {},
     "output_type": "execute_result"
    }
   ],
   "source": [
    "fname, iname"
   ]
  },
  {
   "cell_type": "code",
   "execution_count": 21,
   "id": "c89acfe2",
   "metadata": {
    "ExecuteTime": {
     "end_time": "2021-12-19T19:50:49.465298Z",
     "start_time": "2021-12-19T19:50:49.390299Z"
    }
   },
   "outputs": [
    {
     "name": "stdout",
     "output_type": "stream",
     "text": [
      "Manoj\n",
      "Bhavuk\n"
     ]
    }
   ],
   "source": [
    "print(fname)\n",
    "print (iname)"
   ]
  },
  {
   "cell_type": "code",
   "execution_count": 22,
   "id": "85252e28",
   "metadata": {
    "ExecuteTime": {
     "end_time": "2021-12-19T19:50:49.560217Z",
     "start_time": "2021-12-19T19:50:49.474295Z"
    }
   },
   "outputs": [
    {
     "name": "stdout",
     "output_type": "stream",
     "text": [
      "Manoj Bhavuk\n"
     ]
    }
   ],
   "source": [
    "print(fname,iname)"
   ]
  },
  {
   "cell_type": "code",
   "execution_count": 23,
   "id": "0ea465be",
   "metadata": {
    "ExecuteTime": {
     "end_time": "2021-12-19T19:50:49.657495Z",
     "start_time": "2021-12-19T19:50:49.578220Z"
    }
   },
   "outputs": [
    {
     "name": "stdout",
     "output_type": "stream",
     "text": [
      "First name :ManojLast Name : Bhavuk\n"
     ]
    }
   ],
   "source": [
    "print('First name :' + fname  + 'Last Name : ' + iname) # string concatenation"
   ]
  },
  {
   "cell_type": "markdown",
   "id": "6a75e6a6",
   "metadata": {},
   "source": [
    "## 2[c] Manipulating String with Methods"
   ]
  },
  {
   "cell_type": "markdown",
   "id": "4fa0d8a6",
   "metadata": {},
   "source": [
    "**Methods or functions** : Inorder to do some operation on your variable, we go for methods, and always a method enclosed with ()"
   ]
  },
  {
   "cell_type": "code",
   "execution_count": 24,
   "id": "d01cc837",
   "metadata": {
    "ExecuteTime": {
     "end_time": "2021-12-19T19:50:49.757131Z",
     "start_time": "2021-12-19T19:50:49.667495Z"
    }
   },
   "outputs": [],
   "source": [
    "learner_1 = 'Manoj'\n",
    "learner_2 =  '  Bhavuk'\n",
    "learner_3 = 'Anil   '\n",
    "learner_4 = '     Riya   '"
   ]
  },
  {
   "cell_type": "code",
   "execution_count": 25,
   "id": "3b4d7112",
   "metadata": {
    "ExecuteTime": {
     "end_time": "2021-12-19T19:50:49.853412Z",
     "start_time": "2021-12-19T19:50:49.762267Z"
    }
   },
   "outputs": [
    {
     "name": "stdout",
     "output_type": "stream",
     "text": [
      "Manoj\n",
      "  Bhavuk\n",
      "Anil   \n",
      "     Riya   \n"
     ]
    }
   ],
   "source": [
    "print(learner_1)\n",
    "print(learner_2)\n",
    "print(learner_3)\n",
    "print(learner_4)"
   ]
  },
  {
   "cell_type": "code",
   "execution_count": 26,
   "id": "bab1552e",
   "metadata": {
    "ExecuteTime": {
     "end_time": "2021-12-19T19:50:49.948744Z",
     "start_time": "2021-12-19T19:50:49.858420Z"
    }
   },
   "outputs": [
    {
     "data": {
      "text/plain": [
       "(5, 8)"
      ]
     },
     "execution_count": 26,
     "metadata": {},
     "output_type": "execute_result"
    }
   ],
   "source": [
    "len(learner_1),len(learner_2)"
   ]
  },
  {
   "cell_type": "code",
   "execution_count": 27,
   "id": "af6b16ce",
   "metadata": {
    "ExecuteTime": {
     "end_time": "2021-12-19T19:50:50.020666Z",
     "start_time": "2021-12-19T19:50:49.953746Z"
    }
   },
   "outputs": [
    {
     "data": {
      "text/plain": [
       "'MANOJ'"
      ]
     },
     "execution_count": 27,
     "metadata": {},
     "output_type": "execute_result"
    }
   ],
   "source": [
    "learner_1.upper() #Return a copy of the string converted to uppercase"
   ]
  },
  {
   "cell_type": "code",
   "execution_count": 28,
   "id": "f45037c2",
   "metadata": {
    "ExecuteTime": {
     "end_time": "2021-12-19T19:50:50.123446Z",
     "start_time": "2021-12-19T19:50:50.026665Z"
    }
   },
   "outputs": [
    {
     "data": {
      "text/plain": [
       "'Bhavuk'"
      ]
     },
     "execution_count": 28,
     "metadata": {},
     "output_type": "execute_result"
    }
   ],
   "source": [
    "learner_2.lstrip() #Return a copy of the string with leading whitespace removed"
   ]
  },
  {
   "cell_type": "code",
   "execution_count": 29,
   "id": "715c17e6",
   "metadata": {
    "ExecuteTime": {
     "end_time": "2021-12-19T19:50:50.219440Z",
     "start_time": "2021-12-19T19:50:50.128451Z"
    }
   },
   "outputs": [
    {
     "data": {
      "text/plain": [
       "'Anil'"
      ]
     },
     "execution_count": 29,
     "metadata": {},
     "output_type": "execute_result"
    }
   ],
   "source": [
    "learner_3.rstrip() #Return a copy of the string with trailing whitespace removed."
   ]
  },
  {
   "cell_type": "code",
   "execution_count": 30,
   "id": "6ac8e92a",
   "metadata": {
    "ExecuteTime": {
     "end_time": "2021-12-19T19:50:50.299262Z",
     "start_time": "2021-12-19T19:50:50.224443Z"
    }
   },
   "outputs": [
    {
     "data": {
      "text/plain": [
       "'Riya'"
      ]
     },
     "execution_count": 30,
     "metadata": {},
     "output_type": "execute_result"
    }
   ],
   "source": [
    "learner_4.strip() #Return a copy of the string with leading and trailing whitespace removed"
   ]
  },
  {
   "cell_type": "markdown",
   "id": "1e423ed6",
   "metadata": {},
   "source": [
    "## ================================================================="
   ]
  },
  {
   "cell_type": "markdown",
   "id": "a9cea677",
   "metadata": {},
   "source": [
    "## 2 [d] Interact with user input"
   ]
  },
  {
   "cell_type": "code",
   "execution_count": 31,
   "id": "50e99ab6",
   "metadata": {
    "ExecuteTime": {
     "end_time": "2021-12-19T19:51:05.838109Z",
     "start_time": "2021-12-19T19:50:50.304266Z"
    }
   },
   "outputs": [
    {
     "name": "stdout",
     "output_type": "stream",
     "text": [
      "username:MAnoj\n",
      "Username start with  M\n"
     ]
    }
   ],
   "source": [
    "user_input = input('username:')\n",
    "\n",
    "print('Username start with ',user_input[0])"
   ]
  },
  {
   "cell_type": "markdown",
   "id": "d793bc2e",
   "metadata": {},
   "source": [
    "## 2[e] Get 2 inputs from the user and print it"
   ]
  },
  {
   "cell_type": "code",
   "execution_count": 32,
   "id": "ae4a8060",
   "metadata": {
    "ExecuteTime": {
     "end_time": "2021-12-19T19:51:14.439442Z",
     "start_time": "2021-12-19T19:51:05.843110Z"
    }
   },
   "outputs": [
    {
     "name": "stdout",
     "output_type": "stream",
     "text": [
      "enter fav heroallu arjun\n",
      "your fav hero is  allu arjun\n",
      "enter fav number18\n",
      "your fav number is : 18\n"
     ]
    }
   ],
   "source": [
    "fav_hero = input('enter fav hero')\n",
    "print('your fav hero is ',fav_hero )\n",
    "\n",
    "fav_number = input('enter fav number')\n",
    "print('your fav number is :', fav_number)"
   ]
  },
  {
   "cell_type": "markdown",
   "id": "06f549c0",
   "metadata": {
    "ExecuteTime": {
     "start_time": "2021-12-19T19:01:25.980Z"
    }
   },
   "source": [
    "fav_hero = input('enter fav hero')\n",
    "fav_number = input('enter fav number')\n",
    "print('favourite hero :{} and favourite number : {}'.format(fav_hero,fav_number))"
   ]
  },
  {
   "cell_type": "markdown",
   "id": "f9be629b",
   "metadata": {},
   "source": [
    "# 2[f] Streamline your print statement"
   ]
  },
  {
   "cell_type": "code",
   "execution_count": 33,
   "id": "26f7c66c",
   "metadata": {
    "ExecuteTime": {
     "end_time": "2021-12-19T19:51:22.508865Z",
     "start_time": "2021-12-19T19:51:14.445445Z"
    }
   },
   "outputs": [
    {
     "name": "stdout",
     "output_type": "stream",
     "text": [
      "enter fav heroallu arjun\n",
      "enter fav number18\n",
      "favourite hero :allu arjun \n",
      " favourite number : 18\n"
     ]
    }
   ],
   "source": [
    "fav_hero = input('enter fav hero')\n",
    "fav_number = input('enter fav number')\n",
    "print('favourite hero :{} \\n favourite number : {}'.format(fav_hero,fav_number))"
   ]
  },
  {
   "cell_type": "markdown",
   "id": "06b8020e",
   "metadata": {},
   "source": [
    "# ====================================================="
   ]
  },
  {
   "cell_type": "markdown",
   "id": "da6aa72a",
   "metadata": {},
   "source": [
    "# chapter 3 - Numbers in python"
   ]
  },
  {
   "cell_type": "code",
   "execution_count": 34,
   "id": "837b3148",
   "metadata": {
    "ExecuteTime": {
     "end_time": "2021-12-19T19:51:26.657958Z",
     "start_time": "2021-12-19T19:51:22.515753Z"
    }
   },
   "outputs": [
    {
     "name": "stdout",
     "output_type": "stream",
     "text": [
      "enter your marks:17\n",
      "scored marks :  17\n"
     ]
    }
   ],
   "source": [
    "user_marks = int(input ('enter your marks:'))\n",
    "\n",
    "print('scored marks : ', abs(user_marks))"
   ]
  },
  {
   "cell_type": "markdown",
   "id": "79ad38f5",
   "metadata": {},
   "source": [
    "# ===================================================="
   ]
  },
  {
   "cell_type": "markdown",
   "id": "7b4f6e5a",
   "metadata": {},
   "source": [
    "# Chapter 4 - Functions and loops\n"
   ]
  },
  {
   "cell_type": "markdown",
   "id": "656e12c5",
   "metadata": {},
   "source": [
    "**3 types of functions in python:**\n",
    "\n",
    "**1.build in function/ predefined** - this function will get installed when we are anaconda navigator.\n",
    "\n",
    "**2.User defined Function** - User given function. Customizable. \n",
    "\n",
    "**3.Anonymous Function** - it is nameless function used to accomplish one task at once."
   ]
  },
  {
   "cell_type": "markdown",
   "id": "04ba6a2a",
   "metadata": {},
   "source": [
    "# 4[a] - Write your own function\n"
   ]
  },
  {
   "cell_type": "code",
   "execution_count": 35,
   "id": "b757f73a",
   "metadata": {
    "ExecuteTime": {
     "end_time": "2021-12-19T19:51:26.689952Z",
     "start_time": "2021-12-19T19:51:26.664960Z"
    }
   },
   "outputs": [],
   "source": [
    "#step 1 - function definition\n",
    "def get_details():\n",
    "    print('Hello, welcome to the first function!!')\n",
    "    print('Thankyou!!')"
   ]
  },
  {
   "cell_type": "code",
   "execution_count": 36,
   "id": "7c367313",
   "metadata": {
    "ExecuteTime": {
     "end_time": "2021-12-19T19:51:26.817944Z",
     "start_time": "2021-12-19T19:51:26.697957Z"
    }
   },
   "outputs": [
    {
     "name": "stdout",
     "output_type": "stream",
     "text": [
      "Hello, welcome to the first function!!\n",
      "Thankyou!!\n"
     ]
    }
   ],
   "source": [
    "get_details()"
   ]
  },
  {
   "cell_type": "code",
   "execution_count": 37,
   "id": "44999a97",
   "metadata": {
    "ExecuteTime": {
     "end_time": "2021-12-19T19:51:26.913942Z",
     "start_time": "2021-12-19T19:51:26.823950Z"
    }
   },
   "outputs": [],
   "source": [
    "def get_numbers(num1,num2): #Arguements\n",
    "    print('number 1: ',num1)\n",
    "    print('number 2: ',num2)\n",
    "    print('Function Ended')\n",
    "    return num1*num2 # Termination point\n"
   ]
  },
  {
   "cell_type": "code",
   "execution_count": 38,
   "id": "980aa4ca",
   "metadata": {
    "ExecuteTime": {
     "end_time": "2021-12-19T19:51:27.025928Z",
     "start_time": "2021-12-19T19:51:26.921938Z"
    }
   },
   "outputs": [
    {
     "name": "stdout",
     "output_type": "stream",
     "text": [
      "number 1:  23\n",
      "number 2:  67\n",
      "Function Ended\n"
     ]
    },
    {
     "data": {
      "text/plain": [
       "1541"
      ]
     },
     "execution_count": 38,
     "metadata": {},
     "output_type": "execute_result"
    }
   ],
   "source": [
    "get_numbers(23,67)"
   ]
  },
  {
   "cell_type": "code",
   "execution_count": 39,
   "id": "be15d507",
   "metadata": {
    "ExecuteTime": {
     "end_time": "2021-12-19T19:51:27.152921Z",
     "start_time": "2021-12-19T19:51:27.034931Z"
    }
   },
   "outputs": [],
   "source": [
    "def get_numbers(num1,num2):\n",
    "    print('number 1: ',num1)\n",
    "    print('number 2: ',num2)\n",
    "    return num1\n",
    "    return num1*num2 # Termination point"
   ]
  },
  {
   "cell_type": "code",
   "execution_count": 40,
   "id": "b7df9984",
   "metadata": {
    "ExecuteTime": {
     "end_time": "2021-12-19T19:51:27.248917Z",
     "start_time": "2021-12-19T19:51:27.157925Z"
    },
    "scrolled": true
   },
   "outputs": [
    {
     "name": "stdout",
     "output_type": "stream",
     "text": [
      "number 1:  23\n",
      "number 2:  67\n"
     ]
    },
    {
     "data": {
      "text/plain": [
       "23"
      ]
     },
     "execution_count": 40,
     "metadata": {},
     "output_type": "execute_result"
    }
   ],
   "source": [
    "get_numbers(23,67)"
   ]
  },
  {
   "cell_type": "code",
   "execution_count": null,
   "id": "0014b8d7",
   "metadata": {},
   "outputs": [],
   "source": []
  },
  {
   "cell_type": "code",
   "execution_count": 48,
   "id": "19322b1a",
   "metadata": {
    "ExecuteTime": {
     "end_time": "2021-12-19T19:55:28.569979Z",
     "start_time": "2021-12-19T19:55:28.558982Z"
    }
   },
   "outputs": [],
   "source": [
    "def get_learner_details(Learner_id, Learner_name, age,company):\n",
    "    print('************')\n",
    "    print('Learner_id    :',Learner_id)\n",
    "    print('Learner_name :',Learner_name)\n",
    "    print('age           :',age)\n",
    "    print('workplace     :',company)\n",
    "    print('************')"
   ]
  },
  {
   "cell_type": "code",
   "execution_count": 49,
   "id": "31f0e79b",
   "metadata": {
    "ExecuteTime": {
     "end_time": "2021-12-19T19:55:29.393947Z",
     "start_time": "2021-12-19T19:55:29.373942Z"
    }
   },
   "outputs": [
    {
     "name": "stdout",
     "output_type": "stream",
     "text": [
      "************\n",
      "Learner_id    : 1\n",
      "Learner_name : Manoj\n",
      "age           : 18\n",
      "workplace     : google\n",
      "************\n"
     ]
    }
   ],
   "source": [
    "get_learner_details(1,'Manoj', 18, 'google')"
   ]
  },
  {
   "cell_type": "code",
   "execution_count": 50,
   "id": "b295f803",
   "metadata": {
    "ExecuteTime": {
     "end_time": "2021-12-19T19:55:31.366775Z",
     "start_time": "2021-12-19T19:55:31.340773Z"
    }
   },
   "outputs": [
    {
     "name": "stdout",
     "output_type": "stream",
     "text": [
      "************\n",
      "Learner_id    : 2\n",
      "Learner_name : Bhavuk\n",
      "age           : 24\n",
      "workplace     : wipro\n",
      "************\n"
     ]
    }
   ],
   "source": [
    "get_learner_details(2,'Bhavuk', 24, 'wipro')"
   ]
  },
  {
   "cell_type": "markdown",
   "id": "3f0a53a6",
   "metadata": {},
   "source": [
    "# ======================================================"
   ]
  },
  {
   "cell_type": "markdown",
   "id": "4a7db263",
   "metadata": {},
   "source": [
    "# 4[b] Run in circles"
   ]
  },
  {
   "cell_type": "code",
   "execution_count": 51,
   "id": "577f0c0b",
   "metadata": {
    "ExecuteTime": {
     "end_time": "2021-12-19T19:59:03.014226Z",
     "start_time": "2021-12-19T19:59:02.993228Z"
    }
   },
   "outputs": [
    {
     "data": {
      "text/plain": [
       "[1, 2, 3, 4, 5, 6]"
      ]
     },
     "execution_count": 51,
     "metadata": {},
     "output_type": "execute_result"
    }
   ],
   "source": [
    "[1,2,3,4,5,6]"
   ]
  },
  {
   "cell_type": "code",
   "execution_count": 56,
   "id": "4da0bb80",
   "metadata": {
    "ExecuteTime": {
     "end_time": "2021-12-19T20:07:29.758921Z",
     "start_time": "2021-12-19T20:07:29.738050Z"
    }
   },
   "outputs": [
    {
     "name": "stdout",
     "output_type": "stream",
     "text": [
      "1\n",
      "2\n",
      "3\n",
      "4\n",
      "5\n",
      "6\n",
      "7\n",
      "8\n",
      "9\n",
      "10\n",
      "11\n",
      "12\n",
      "13\n",
      "14\n",
      "15\n",
      "16\n",
      "17\n",
      "18\n",
      "19\n",
      "20\n"
     ]
    }
   ],
   "source": [
    "for i in range(1,21):\n",
    "    print(i)"
   ]
  },
  {
   "cell_type": "markdown",
   "id": "bc2cac74",
   "metadata": {},
   "source": [
    "# ========================================================"
   ]
  },
  {
   "cell_type": "markdown",
   "id": "1ef44198",
   "metadata": {},
   "source": [
    "#  Chapter 5- Conditional Logic"
   ]
  },
  {
   "cell_type": "markdown",
   "id": "8cc2e2dc",
   "metadata": {},
   "source": [
    "## 5[1] Compare Values"
   ]
  },
  {
   "cell_type": "code",
   "execution_count": 1,
   "id": "9fc98959",
   "metadata": {
    "ExecuteTime": {
     "end_time": "2021-12-20T05:54:19.048652Z",
     "start_time": "2021-12-20T05:54:19.000800Z"
    }
   },
   "outputs": [
    {
     "data": {
      "text/plain": [
       "True"
      ]
     },
     "execution_count": 1,
     "metadata": {},
     "output_type": "execute_result"
    }
   ],
   "source": [
    "5==5"
   ]
  },
  {
   "cell_type": "code",
   "execution_count": 2,
   "id": "2845b049",
   "metadata": {
    "ExecuteTime": {
     "end_time": "2021-12-20T05:54:56.331244Z",
     "start_time": "2021-12-20T05:54:56.299275Z"
    }
   },
   "outputs": [
    {
     "data": {
      "text/plain": [
       "False"
      ]
     },
     "execution_count": 2,
     "metadata": {},
     "output_type": "execute_result"
    }
   ],
   "source": [
    "5.5 == '5.5'"
   ]
  },
  {
   "cell_type": "code",
   "execution_count": 3,
   "id": "a0b0350e",
   "metadata": {
    "ExecuteTime": {
     "end_time": "2021-12-20T05:55:25.059835Z",
     "start_time": "2021-12-20T05:55:25.011695Z"
    }
   },
   "outputs": [
    {
     "ename": "SyntaxError",
     "evalue": "cannot assign to literal (<ipython-input-3-086ad47447ec>, line 1)",
     "output_type": "error",
     "traceback": [
      "\u001b[1;36m  File \u001b[1;32m\"<ipython-input-3-086ad47447ec>\"\u001b[1;36m, line \u001b[1;32m1\u001b[0m\n\u001b[1;33m    'a' = 'a'\u001b[0m\n\u001b[1;37m    ^\u001b[0m\n\u001b[1;31mSyntaxError\u001b[0m\u001b[1;31m:\u001b[0m cannot assign to literal\n"
     ]
    }
   ],
   "source": [
    "'a' = 'a'"
   ]
  },
  {
   "cell_type": "code",
   "execution_count": 4,
   "id": "61a4f4eb",
   "metadata": {
    "ExecuteTime": {
     "end_time": "2021-12-20T05:55:43.258966Z",
     "start_time": "2021-12-20T05:55:43.234837Z"
    }
   },
   "outputs": [
    {
     "data": {
      "text/plain": [
       "True"
      ]
     },
     "execution_count": 4,
     "metadata": {},
     "output_type": "execute_result"
    }
   ],
   "source": [
    "7 != 5"
   ]
  },
  {
   "cell_type": "code",
   "execution_count": 5,
   "id": "657c41f5",
   "metadata": {
    "ExecuteTime": {
     "end_time": "2021-12-20T05:55:49.974950Z",
     "start_time": "2021-12-20T05:55:49.959117Z"
    }
   },
   "outputs": [
    {
     "data": {
      "text/plain": [
       "3.5"
      ]
     },
     "execution_count": 5,
     "metadata": {},
     "output_type": "execute_result"
    }
   ],
   "source": [
    "7/2"
   ]
  },
  {
   "cell_type": "code",
   "execution_count": 6,
   "id": "11a2ec18",
   "metadata": {
    "ExecuteTime": {
     "end_time": "2021-12-20T05:55:58.052486Z",
     "start_time": "2021-12-20T05:55:58.036654Z"
    }
   },
   "outputs": [
    {
     "data": {
      "text/plain": [
       "1"
      ]
     },
     "execution_count": 6,
     "metadata": {},
     "output_type": "execute_result"
    }
   ],
   "source": [
    "7%2"
   ]
  },
  {
   "cell_type": "code",
   "execution_count": 7,
   "id": "fcb185ac",
   "metadata": {
    "ExecuteTime": {
     "end_time": "2021-12-20T05:56:17.639269Z",
     "start_time": "2021-12-20T05:56:17.623268Z"
    }
   },
   "outputs": [
    {
     "data": {
      "text/plain": [
       "False"
      ]
     },
     "execution_count": 7,
     "metadata": {},
     "output_type": "execute_result"
    }
   ],
   "source": [
    "7%2 == 0"
   ]
  },
  {
   "cell_type": "markdown",
   "id": "da84c287",
   "metadata": {},
   "source": [
    "## 5[b] Add some logic"
   ]
  },
  {
   "cell_type": "markdown",
   "id": "f8665489",
   "metadata": {},
   "source": [
    "**>>>>>>>>>>>>>>>Different operators in python<<<<<<<<<<<<<<<<<**\n",
    "\n",
    "**AND Operator - will return true, only if both condition are true.**\n",
    "\n",
    "**OR Operator - will return True if anyone condition is True.**\n",
    "\n",
    "**IN Operator - We use to check if that particular word is available in my data.**\n",
    "\n",
    "**NOT In operator - We use to check if that particular word is not available in my data.**"
   ]
  },
  {
   "cell_type": "code",
   "execution_count": 3,
   "id": "48698079",
   "metadata": {
    "ExecuteTime": {
     "end_time": "2021-12-21T02:09:23.299174Z",
     "start_time": "2021-12-21T02:09:23.279382Z"
    }
   },
   "outputs": [],
   "source": [
    "maths = 100\n",
    "science = 95\n",
    "physics = 90"
   ]
  },
  {
   "cell_type": "code",
   "execution_count": 4,
   "id": "523ec640",
   "metadata": {
    "ExecuteTime": {
     "end_time": "2021-12-21T02:09:24.708613Z",
     "start_time": "2021-12-21T02:09:24.685619Z"
    }
   },
   "outputs": [
    {
     "data": {
      "text/plain": [
       "True"
      ]
     },
     "execution_count": 4,
     "metadata": {},
     "output_type": "execute_result"
    }
   ],
   "source": [
    "maths > science"
   ]
  },
  {
   "cell_type": "code",
   "execution_count": 5,
   "id": "5b6ca9ea",
   "metadata": {
    "ExecuteTime": {
     "end_time": "2021-12-21T02:09:25.656144Z",
     "start_time": "2021-12-21T02:09:25.640147Z"
    }
   },
   "outputs": [
    {
     "data": {
      "text/plain": [
       "False"
      ]
     },
     "execution_count": 5,
     "metadata": {},
     "output_type": "execute_result"
    }
   ],
   "source": [
    "science < physics"
   ]
  },
  {
   "cell_type": "code",
   "execution_count": 6,
   "id": "9ef0a7a7",
   "metadata": {
    "ExecuteTime": {
     "end_time": "2021-12-21T02:09:26.434823Z",
     "start_time": "2021-12-21T02:09:26.415829Z"
    }
   },
   "outputs": [
    {
     "data": {
      "text/plain": [
       "False"
      ]
     },
     "execution_count": 6,
     "metadata": {},
     "output_type": "execute_result"
    }
   ],
   "source": [
    "maths > science and science < physics"
   ]
  },
  {
   "cell_type": "code",
   "execution_count": 8,
   "id": "f3532b01",
   "metadata": {
    "ExecuteTime": {
     "end_time": "2021-12-21T02:10:21.251208Z",
     "start_time": "2021-12-21T02:10:21.219025Z"
    }
   },
   "outputs": [
    {
     "data": {
      "text/plain": [
       "True"
      ]
     },
     "execution_count": 8,
     "metadata": {},
     "output_type": "execute_result"
    }
   ],
   "source": [
    "maths > science or science < physics"
   ]
  },
  {
   "cell_type": "code",
   "execution_count": 9,
   "id": "a7c69829",
   "metadata": {
    "ExecuteTime": {
     "end_time": "2021-12-21T02:13:54.178150Z",
     "start_time": "2021-12-21T02:13:54.170282Z"
    }
   },
   "outputs": [],
   "source": [
    "abhi_feedback = 'data science is bit okay but not matching mt expectation'"
   ]
  },
  {
   "cell_type": "code",
   "execution_count": 10,
   "id": "fd715c16",
   "metadata": {
    "ExecuteTime": {
     "end_time": "2021-12-21T02:15:33.644324Z",
     "start_time": "2021-12-21T02:15:33.620328Z"
    }
   },
   "outputs": [
    {
     "data": {
      "text/plain": [
       "False"
      ]
     },
     "execution_count": 10,
     "metadata": {},
     "output_type": "execute_result"
    }
   ],
   "source": [
    "'good' in abhi_feedback\n",
    "    \n"
   ]
  },
  {
   "cell_type": "code",
   "execution_count": 11,
   "id": "5169667c",
   "metadata": {
    "ExecuteTime": {
     "end_time": "2021-12-21T02:16:22.824678Z",
     "start_time": "2021-12-21T02:16:22.792652Z"
    }
   },
   "outputs": [
    {
     "data": {
      "text/plain": [
       "True"
      ]
     },
     "execution_count": 11,
     "metadata": {},
     "output_type": "execute_result"
    }
   ],
   "source": [
    "'good' not in abhi_feedback"
   ]
  },
  {
   "cell_type": "markdown",
   "id": "ff268865",
   "metadata": {},
   "source": [
    "## 5[c] Control the flow of the program"
   ]
  },
  {
   "cell_type": "code",
   "execution_count": 12,
   "id": "a26772e7",
   "metadata": {
    "ExecuteTime": {
     "end_time": "2021-12-21T02:24:03.299595Z",
     "start_time": "2021-12-21T02:23:54.866363Z"
    }
   },
   "outputs": [
    {
     "name": "stdout",
     "output_type": "stream",
     "text": [
      "password :manoj\n",
      "strong password\n"
     ]
    }
   ],
   "source": [
    "manoj_password = input('password :')\n",
    "\n",
    "if len(manoj_password )<5:\n",
    "    print('weak password')\n",
    "else:\n",
    "    print('strong password')"
   ]
  },
  {
   "cell_type": "code",
   "execution_count": 14,
   "id": "15030b79",
   "metadata": {
    "ExecuteTime": {
     "end_time": "2021-12-21T02:28:36.286318Z",
     "start_time": "2021-12-21T02:28:31.378601Z"
    }
   },
   "outputs": [
    {
     "name": "stdout",
     "output_type": "stream",
     "text": [
      "password :manoj\n",
      "moderate password\n"
     ]
    }
   ],
   "source": [
    "manoj_password = input('password :')\n",
    "\n",
    "if len(manoj_password )<5:\n",
    "    print('weak password')\n",
    "elif 5<=len(manoj_password)<10:\n",
    "    print('moderate password')\n",
    "else:\n",
    "    print('strong password')"
   ]
  },
  {
   "cell_type": "markdown",
   "id": "bf79a189",
   "metadata": {},
   "source": [
    "## 5[d] Find the factors of a number"
   ]
  },
  {
   "cell_type": "markdown",
   "id": "4a7fa79d",
   "metadata": {},
   "source": [
    "1. get an input from user.\n",
    "2. if user entes 10 - the output should be 1,2,5,10.\n"
   ]
  },
  {
   "cell_type": "code",
   "execution_count": 18,
   "id": "c780b159",
   "metadata": {
    "ExecuteTime": {
     "end_time": "2021-12-21T02:35:08.231176Z",
     "start_time": "2021-12-21T02:35:05.632840Z"
    }
   },
   "outputs": [
    {
     "name": "stdout",
     "output_type": "stream",
     "text": [
      "enter a number to find the factors of a number :10\n",
      "1\n",
      "2\n",
      "5\n",
      "10\n"
     ]
    }
   ],
   "source": [
    "user_input = int(input('enter a number to find the factors of a number :'))\n",
    "\n",
    "# 10 - 1,2,3,4,5,6,7,8,9,10\n",
    "for i in range(1, user_input+1):\n",
    "    if user_input%i == 0:\n",
    "        print(i)"
   ]
  },
  {
   "cell_type": "markdown",
   "id": "41ae618b",
   "metadata": {},
   "source": [
    "## 5[e] Break out of the pattern"
   ]
  },
  {
   "cell_type": "code",
   "execution_count": 19,
   "id": "c2a0fc7e",
   "metadata": {
    "ExecuteTime": {
     "end_time": "2021-12-21T02:38:19.211299Z",
     "start_time": "2021-12-21T02:38:13.113759Z"
    }
   },
   "outputs": [
    {
     "name": "stdout",
     "output_type": "stream",
     "text": [
      "type q to quit this windowa\n",
      "type q to quit this windowa\n",
      "type q to quit this windowq\n"
     ]
    }
   ],
   "source": [
    "while True:\n",
    "    user_input = input('type q to quit this window')\n",
    "\n",
    "    if user_input == 'q':\n",
    "        break"
   ]
  },
  {
   "cell_type": "code",
   "execution_count": 23,
   "id": "d3d32353",
   "metadata": {
    "ExecuteTime": {
     "end_time": "2021-12-21T02:42:08.647667Z",
     "start_time": "2021-12-21T02:42:08.632880Z"
    }
   },
   "outputs": [
    {
     "name": "stdout",
     "output_type": "stream",
     "text": [
      "1\n",
      "4\n",
      "7\n",
      "10\n",
      "13\n",
      "16\n",
      "19\n",
      "22\n",
      "25\n",
      "28\n",
      "31\n",
      "34\n",
      "37\n",
      "40\n",
      "43\n",
      "46\n",
      "49\n",
      "52\n",
      "55\n",
      "58\n",
      "61\n",
      "64\n",
      "67\n",
      "70\n",
      "73\n",
      "76\n",
      "79\n",
      "82\n",
      "85\n",
      "88\n",
      "91\n",
      "94\n",
      "97\n",
      "100\n"
     ]
    }
   ],
   "source": [
    "for i  in range(1,101,3): # we can maintain the gap between our number just by typing (#,#,@) @ is the point where we want to maintain our gap between two numbers\n",
    "    if 1%2 == 0:\n",
    "        continue\n",
    "    print(i)"
   ]
  },
  {
   "cell_type": "markdown",
   "id": "87227b1e",
   "metadata": {},
   "source": [
    "# **Daily Task - 2**\n",
    "\n",
    "**submit 2 example for each module.**\n",
    "\n",
    "**1.while loop**\n",
    "\n",
    "**2.for loop**\n",
    "\n",
    "**3.if else**\n",
    "\n",
    "**4.if elif else**\n",
    "\n",
    "**5.user defined functions without for loop,if loop**\n",
    "\n",
    "**6.user defined functions with for loop**\n",
    "\n",
    "**7.user defined functions with for loopand if loop**\n",
    "\n",
    "**8.break**\n",
    "\n",
    "**9.continue**\n",
    "\n",
    "**10.for loop with in operator**\n",
    "\n",
    "**11.for loop with if statement**\n",
    "\n",
    "**12.for loop with not in operator**\n",
    "\n",
    "**13.if with in operator**\n",
    "\n",
    "**14.if with not in operator**"
   ]
  },
  {
   "cell_type": "code",
   "execution_count": null,
   "id": "c7cfb174",
   "metadata": {},
   "outputs": [],
   "source": []
  }
 ],
 "metadata": {
  "kernelspec": {
   "display_name": "Python 3",
   "language": "python",
   "name": "python3"
  },
  "language_info": {
   "codemirror_mode": {
    "name": "ipython",
    "version": 3
   },
   "file_extension": ".py",
   "mimetype": "text/x-python",
   "name": "python",
   "nbconvert_exporter": "python",
   "pygments_lexer": "ipython3",
   "version": "3.8.8"
  },
  "varInspector": {
   "cols": {
    "lenName": 16,
    "lenType": 16,
    "lenVar": 40
   },
   "kernels_config": {
    "python": {
     "delete_cmd_postfix": "",
     "delete_cmd_prefix": "del ",
     "library": "var_list.py",
     "varRefreshCmd": "print(var_dic_list())"
    },
    "r": {
     "delete_cmd_postfix": ") ",
     "delete_cmd_prefix": "rm(",
     "library": "var_list.r",
     "varRefreshCmd": "cat(var_dic_list()) "
    }
   },
   "types_to_exclude": [
    "module",
    "function",
    "builtin_function_or_method",
    "instance",
    "_Feature"
   ],
   "window_display": false
  }
 },
 "nbformat": 4,
 "nbformat_minor": 5
}
